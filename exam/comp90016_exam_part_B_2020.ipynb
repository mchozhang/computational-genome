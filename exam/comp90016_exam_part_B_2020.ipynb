{
 "cells": [
  {
   "cell_type": "markdown",
   "metadata": {},
   "source": [
    "# COMP90016 - Exam Part B\n",
    "\n",
    "## Semester 1, 2020"
   ]
  },
  {
   "cell_type": "markdown",
   "metadata": {},
   "source": [
    "Version 2. Last edited 22/6/2020."
   ]
  },
  {
   "cell_type": "markdown",
   "metadata": {},
   "source": [
    "## Overview\n",
    "\n",
    "This is an **open book** assessment. While you are undertaking this assessment you **are permitted to**:\n",
    "\n",
    "- make use of the lecture and workshop material (including soft-copy versions).\n",
    "- make use of the code that have been part of this subject, including any code that you have written.\n",
    "- make use of the sample solutions to Assignments.\n",
    "- make use of the documentation pages for any Python libraries installed on the COMP90016 server (including `skbio` and `pysam`).\n",
    "\n",
    "While you are undertaking this assessment **you must not**:\n",
    "\n",
    "- make use of any messaging or communications technology.\n",
    "- make use of any world-wide web or internet-based resources such as Wikipedia, Stackoverflow, or Google and other search services.\n",
    "- act in any manner that could be regarded as providing assistance to another student who is undertaking this assessment, or will in the future be undertaking this assessment.\n",
    "\n",
    "The work you submit **must be based on your own knowledge and skills**, without assistance from any other person.\n",
    "\n",
    "\n",
    "Part B of the exam is structured similarly to the assignments you have completed for this subject.\n",
    "\n",
    "The tasks are a combination of writing Python code, and answering written questions.\n",
    "\n",
    "Make sure you read this entire document, and ask for help on the dedicated LMS discussion thread if anything is unclear. Any changes or clarifications to this document will be announced via the LMS.\n",
    "\n",
    "You will submit your completed Jupyter notebook file containing all your answers via the LMS. You must also submit an HTML file with the output cleared.\n",
    "\n",
    "For code questions, you may use the libraries `skbio`, `pysam`, `matplotlib`, `seaborn` and `plotly` as well as standard Python 3 functions and methods. You may also use any other libraries installed on the COMP90016 server including `collections`, `numpy`, `pandas`, `math` and `itertools`. These can be found using help ('modules').\n",
    "\n",
    "In some cases, we have provided test input and test output that you can use to try out your code. These tests are **not** exhaustive; they may warn you if you've made a mistake, but they are not guaranteed to. It's up to you to decide whether your code is correct.\n",
    "\n",
    "## Marking\n",
    "\n",
    "You must enter your answers to each question into the clearly labelled cells. Answers not entered into the correct cell will not be marked.\n",
    "\n",
    "Some cells are code cells, in which you must wrote code to solve a problem. Others are markdown cells, in which you must write your answers to the questions. Please only add to graded cells, **do not remove or modify any text in graded cells** unless otherwise specified (please don't remove text like this: # ~~ GRADED CELL (1 mark) - complete this cell ~~ ).\n",
    "\n",
    ">Word limits, where stated, will be strictly enforced! Answers exceeding the limit **will not be marked**.\n",
    "\n",
    ">Run-time limits will be imposed for each coding question. Your code will be tested on the COMP90016 server, so make sure you test your run-times there. The run-time of a code cell can be calculated by including `%time` at the top of your cell. Cells exceeding the run-time limit **will not be marked**.\n",
    "\n",
    "No marks are allocated to commenting in your code. We do however, encourage efficient and well commented code.\n",
    "\n",
    "**Marks breakdown:**\n",
    "\n",
    "The total marks for part B of the exam add up to 100.\n",
    "\n",
    "Part 1: Assembly metrics: 10 marks\n",
    "\n",
    "Part 2: Variant quality scores: 20 marks\n",
    "\n",
    "Part 3: Splicing: 20 marks\n",
    "\n",
    "Part 4: Ontologies: 15 marks\n",
    "\n",
    "Part 5: Conservation genomics: 35 marks\n",
    "\n"
   ]
  },
  {
   "cell_type": "markdown",
   "metadata": {},
   "source": [
    "## Part 1: Assembly metrics\n",
    "### Setup"
   ]
  },
  {
   "cell_type": "markdown",
   "metadata": {},
   "source": [
    "A genome assembly can be assessed by using several standard metrics. These can relate to the number and length of contigs, and to the total number of bases in the alignment.\n",
    "\n",
    "N50 is a metric which is defined as the contig length such that at least 50% of the total nucleotides in the assembly belong to contigs with length greater than or equal to the N50. \n",
    "\n",
    "In other words, imagine lining up the contigs in an assembly from longest to shortest. Then progressively add up the lengths of the contigs from the beginning: start with the longest contig + the next longest + the next longest and so on until you reach 50% of the total assembly length. The length of the contig that you stopped at, is the N50.\n",
    "\n",
    "We begin by importing the an assembly of a genome using `skbio`. The assembly is from an Iris yellow spot virus. We will import this information from a FASTA file that can be downloaded from the LMS. Place this file in the same directory as this notebook. **DO NOT** rename the file. "
   ]
  },
  {
   "cell_type": "code",
   "execution_count": 1,
   "metadata": {},
   "outputs": [],
   "source": [
    "# Import the skbio library.\n",
    "import skbio"
   ]
  },
  {
   "cell_type": "code",
   "execution_count": 2,
   "metadata": {},
   "outputs": [],
   "source": [
    "# Read in the FASTA file to produce a list of skbio.sequence.DNA objects.\n",
    "# Each of these objects represents a contig.\n",
    "assembly_iysv = []\n",
    "fname = 'comp90016_exam_part_B_assembly.fasta'\n",
    "registry = skbio.io.read(fname, format = 'fasta')\n",
    "for c in registry:\n",
    "    assembly_iysv.append(c)"
   ]
  },
  {
   "cell_type": "code",
   "execution_count": 3,
   "metadata": {
    "scrolled": true
   },
   "outputs": [],
   "source": [
    "# Create demo assemblies for test input.\n",
    "demo_assembly_a = [skbio.sequence.DNA('ACGTTATT'), skbio.sequence.DNA('AGGT'), skbio.sequence.DNA('ACT')]\n",
    "demo_assembly_b = [skbio.sequence.DNA('GCAGAT'), skbio.sequence.DNA('GAAG'), skbio.sequence.DNA('GCG'), skbio.sequence.DNA('GAT')]\n"
   ]
  },
  {
   "cell_type": "markdown",
   "metadata": {},
   "source": [
    "### Questions\n",
    "In the cells below, complete the following tasks.\n",
    "\n",
    "1.1. (5 marks, 10 minutes max run-time). Write a Python function that calculates the following metrics from an assembly:\n",
    "-\tNumber of contigs\n",
    "-\tTotal number of nucleotides in the assembly\n",
    "-\tAverage contig length\n",
    "-\tLength of the longest contig\n",
    "-\tN50\n",
    "\n",
    "Assume assembly is a list of skbio.sequence.DNA objects representing contigs.\n",
    "\n",
    "Assume each contig has length > 0.\n",
    "\n",
    "Return a tuple of integers or floating-point numbers representing the metrics in the order that they are listed above.\n",
    "\n",
    "If assembly is an empty list, return None.\n",
    "\n",
    "\n",
    "1.2. (5 marks, 50 words max). For an assembly of a SARS-CoV-2 genome, would a high or low value for the following metrics be desired?\n",
    "\n",
    "-\tNumber of contigs\n",
    "-\tAverage contig length\n",
    "-\tLength of the longest contig\n",
    "-\tN50\n"
   ]
  },
  {
   "cell_type": "code",
   "execution_count": 4,
   "metadata": {},
   "outputs": [],
   "source": [
    "# ~~ GRADED CELL 1.1 (5 marks, 10 minutes max run-time) - complete this cell ~~\n",
    "def assembly_metrics(assembly):\n",
    "    \"\"\"\n",
    "    Calculate the following metrics for an assembly:\n",
    "    Number of contigs, Total number of nucleotides in the assembly, Average contig length,\n",
    "    Length of the longest contig, N50.\n",
    "    Assume assembly is a list of skbio.sequence.DNA objects representing contigs. \n",
    "    Assume each contig has length > 0.\n",
    "    If assembly is an empty list, return None.\n",
    "    Return a tuple of integers or floating-point numbers representing the metrics\n",
    "    in the order that they are listed above.\n",
    "    \"\"\"\n",
    "    if not assembly:\n",
    "        return None\n",
    "\n",
    "    # number of contig\n",
    "    contig_num = len(assembly)\n",
    "    len_list = [len(contig) for contig in assembly]\n",
    "\n",
    "    # number of bases\n",
    "    base_num = sum(len_list)\n",
    "\n",
    "    # average contig length\n",
    "    average_contig_length = base_num / contig_num\n",
    "\n",
    "    # max contig length\n",
    "    max_length = max(len_list)\n",
    "\n",
    "    # N50\n",
    "    len_list = sorted(len_list, reverse=True)\n",
    "    count, n50 = 0, len_list[0]\n",
    "    for length in len_list:\n",
    "        count += length\n",
    "        if count >= base_num / 2:\n",
    "            n50 = length\n",
    "            break\n",
    "    return contig_num, base_num, average_contig_length, max_length, n50"
   ]
  },
  {
   "cell_type": "code",
   "execution_count": 5,
   "metadata": {},
   "outputs": [
    {
     "name": "stdout",
     "output_type": "stream",
     "text": [
      "(3, 15, 5.0, 8, 8)\n",
      "(4, 16, 4.0, 6, 4)\n",
      "(12, 16751, 1395.9166666666667, 6080, 2800)\n"
     ]
    }
   ],
   "source": [
    "# ~~ Test your function in this cell ~~\n",
    "print(assembly_metrics(demo_assembly_a)) # should output (3, 15, 5.0, 8, 8)\n",
    "print(assembly_metrics(demo_assembly_b)) # should output (4, 16, 4.0, 6, 4)\n",
    "\n",
    "print(assembly_metrics(assembly_iysv))\n"
   ]
  },
  {
   "cell_type": "markdown",
   "metadata": {},
   "source": [
    "~~ GRADED CELL 1.2 (5 marks, 50 words max) - complete this cell ~~\n",
    "\n",
    "For an assembly of a SARS-CoV-2 genome, would a high or low value for the following statistics be desired?\n",
    "\n",
    "-\tNumber of contigs\n",
    "-\tAverage contig length\n",
    "-\tLength of the longest contig\n",
    "-\tN50\n",
    "\n",
    "A high value would be desired for these statistics, because there might be long repeated region like operons in a virus \n",
    "gene, which needs large number of configs and large value of length to do the assembly."
   ]
  },
  {
   "cell_type": "markdown",
   "metadata": {},
   "source": [
    "## Part 2: Variant quality scores.\n",
    "\n",
    "### Setup\n",
    "\n",
    "Similar to base quality scores in FASTQ files, variant quality scores are encoded within VCF files. These scores are found in the QUAL field.\n",
    "\n",
    "First we will import two VCF files using `pysam`. The VCF files can be downloaded from the LMS. Place these files in the same directory as this notebook. **DO NOT** rename the files."
   ]
  },
  {
   "cell_type": "code",
   "execution_count": 6,
   "metadata": {},
   "outputs": [],
   "source": [
    "# Import the VariantFile function.\n",
    "from pysam import VariantFile"
   ]
  },
  {
   "cell_type": "code",
   "execution_count": 7,
   "metadata": {},
   "outputs": [],
   "source": [
    "# Read in the VCF files to produce VariantFile objects.\n",
    "demo_vcf = VariantFile(\"comp90016_exam_part_B_demo.vcf\")\n",
    "exam_vcf = VariantFile(\"comp90016_exam_part_B.vcf\")"
   ]
  },
  {
   "cell_type": "markdown",
   "metadata": {},
   "source": [
    "### Questions\n",
    "\n",
    "In the cells below, complete the following tasks:\n",
    "\n",
    "2.1. (10 marks, 10 minutes max run-time). Write Python code that will produce a histogram of the variant quality scores in the exam_vcf file. Choose an appropriate bin width. Assume that every variant in the VCF file has an associated variant quality score that is greater than or equal to 0. Make sure you use a plotting library that is available on the COMP90016 server (`matplotlib`, `seaborn` and `plotly` are good options). See the solutions to workshop 4 for a hint as to how to produce a histogram using `matplotlib`. The input is exam_vcf, a pysam VariantFile object. Your code can be a single function, multiple functions or code not contained within a function.\n",
    "\n",
    "An example histogram using the variant quality scores from the demo VCF file is shown below.\n",
    "\n",
    "<img src=\"demo_histogram.png\">\n",
    "\n",
    "2.2. (10 marks, 50 words max). Explain how depth and base quality scores can influence variant quality scores.\n"
   ]
  },
  {
   "cell_type": "code",
   "execution_count": 8,
   "metadata": {},
   "outputs": [
    {
     "data": {
      "text/plain": "<Figure size 432x288 with 1 Axes>",
      "image/png": "[encoded data removed]"
     },
     "metadata": {
      "needs_background": "light"
     },
     "output_type": "display_data"
    }
   ],
   "source": [
    "# ~~ GRADED CELL 2.1 (10 marks, 10 minutes max run-time) - complete this cell ~~\n",
    "\n",
    "import matplotlib.pyplot as plt\n",
    "def generate_histogram(vcf):\n",
    "    quality_list = []\n",
    "    for variant in vcf.fetch():\n",
    "        quality_list.append(variant.qual)\n",
    "    \n",
    "    plt.hist(quality_list, density=False, bins=range(0, int(max(quality_list)) + 60, 60))\n",
    "    plt.ylabel('Frequency')\n",
    "    plt.xlabel('Variant quality score')\n",
    "    plt.show()\n",
    "\n",
    "generate_histogram(exam_vcf)"
   ]
  },
  {
   "cell_type": "markdown",
   "metadata": {},
   "source": [
    "~~ GRADED CELL 2.2 (10 marks, 50 words max) - complete this cell ~~\n",
    "\n",
    "Explain how depth and base quality scores can influence variant quality scores.\n",
    "\n",
    "The variant quality scores are calculated by adding the base quality scores of the reads that cover this variant position,\n",
    "therefore a higher read depth and higher base quality scores result in a higher variant quality score."
   ]
  },
  {
   "cell_type": "markdown",
   "metadata": {},
   "source": [
    "## Part 3: Splicing\n",
    "\n",
    "### Setup\n",
    "\n",
    "In many eukaryotic genes, introns are removed from pre-mRNA before the transcript is translated. This is called RNA splicing. Only the exons of genes are translated.\n",
    "\n",
    "We use the `skbio` library again to import a gene sequence from a FASTA file that can be downloaded from the LMS. Place this file in the same directory as this notebook. **DO NOT** rename the file."
   ]
  },
  {
   "cell_type": "code",
   "execution_count": 9,
   "metadata": {},
   "outputs": [],
   "source": [
    "# Read in the gene sequence from a FASTA file to produce a skbio.sequence.DNA object.\n",
    "fname = 'comp90016_exam_part_B_gene.fasta'\n",
    "registry = skbio.io.read(fname, format = 'fasta')\n",
    "for seq in registry:\n",
    "    gene_sequence = skbio.sequence.DNA(seq)\n",
    "    \n",
    "# Create a demo sequence.\n",
    "seq = 'CGTTGATGTATTGGCCGTAACATTGAGTGACGACGAGTAGGG'\n",
    "demo_sequence = skbio.sequence.DNA(seq)"
   ]
  },
  {
   "cell_type": "markdown",
   "metadata": {},
   "source": [
    "### Questions\n",
    "\n",
    "In the cells below, complete the following tasks:\n",
    "\n",
    "3.1. (10 marks, 10 minutes max run-time). Write a Python function that will translate only the exons of a DNA sequence. Assume seq is a skbio.sequence.DNA object. Assume exon_boundaries is a list of tuples, containing the positions of the first and last nucleotides of the exons (the first nucleotide is position 1). Use the standard genetic code. Return a skbio.sequence.Protein object. If either seq or exons are of length 0, return None.\n",
    "\n",
    "3.2. (10 marks, max 50 words). DNA sequences at splice sites are generally highly conserved. Most commonly, there is a GT at the 3' end of an intron and an AG at the 5’ end. Describe one possible consequence if a mutation occurred in either of these conserved sequences in a splice site of a protein coding gene.\n"
   ]
  },
  {
   "cell_type": "code",
   "execution_count": 10,
   "metadata": {},
   "outputs": [],
   "source": [
    "# ~~ GRADED CELL 3.1 (10 marks, 10 minutes max run-time) - complete this cell ~~\n",
    "def translate_exons(seq, exons):\n",
    "    \"\"\"\n",
    "    Translate only the exons of a DNA sequence.\n",
    "    Assume seq is a skbio.sequence.DNA object. \n",
    "    Assume exons is a list of tuples, containing the positions of the first and last nucleotides of the exons\n",
    "    (the first nucleotide is position 1). \n",
    "    Use the standard genetic code.\n",
    "    Return a skbio.sequence.Protein object.\n",
    "    If either seq or exons are of length 0, return None.\n",
    "    \"\"\"\n",
    "    from skbio import GeneticCode\n",
    "    protein_str = \"\"\n",
    "    for start, end in exons:\n",
    "        protein_str += str(seq[start - 1:end])\n",
    "    protein_coding_seq = skbio.sequence.DNA(protein_str)\n",
    "    return protein_coding_seq.translate(stop='require')"
   ]
  },
  {
   "cell_type": "code",
   "execution_count": 11,
   "metadata": {},
   "outputs": [
    {
     "name": "stdout",
     "output_type": "stream",
     "text": [
      "MYWPDDE\n",
      "MALWIRSLPLLALLVFSGPGTSYAAANQHLCGSHLVEALYLVCGERGFFYSPKARRDVEQPLVSSPLRGEAGVLPFQQEEYEKVKRGIVEQCCHNTCSLYQLENYCN\n"
     ]
    }
   ],
   "source": [
    "# ~~ Test your function in this cell ~~\n",
    "# seq = 'CGTTGATGTATTGGCCGTAACATTGAGTGACGACGAGTAGGG'\n",
    "print(translate_exons(demo_sequence, [(6, 16), (28, 40)])) # should output the sequence MYWPDDE\n",
    "\n",
    "print(translate_exons(gene_sequence, [(211, 397), (3824, 3960)]))\n"
   ]
  },
  {
   "cell_type": "markdown",
   "metadata": {},
   "source": [
    "~~ GRADED CELL 3.2 (10 marks, max 50 words) - complete this cell ~~\n",
    "\n",
    "DNA sequences at splice sites are generally highly conserved. Most commonly, there is a GT at the 3' end of an intron and an AG at the 5’ end. Describe one possible consequence if a mutation occurred in either of these conserved sequences in a splice site of a protein coding gene.\n",
    "\n",
    "A substition at the 3'end of the intron may causes the 3' splice site shift to somewhere in the middle of the intron that has a 'GT', as a result, part of this intron will be transcribed into the mRNA and change the protein function.\n"
   ]
  },
  {
   "cell_type": "markdown",
   "metadata": {},
   "source": [
    "## Part 4: Ontologies\n",
    "\n",
    "### Setup\n",
    "\n",
    "Enrichment analysis can be performed to determine whether a set of entities (eg. gene symbols) is enriched for particular categories in an ontological database. Note that the database categories can be overlapping or nested as a hierarchy.\n",
    "\n",
    "A background frequency associated with a database category is calculated by dividing the total number of entities in the database category by the total number of entities in the database.\n",
    "\n",
    "A sample frequency associated with a database category is calculated by dividing the number of entities in the category in the input data set by the total number of entities in the input data set.\n",
    "\n",
    "For the following questions, we will define an enriched category as one with a sample frequency greater than the background frequency.\n",
    "\n",
    "For example, if the input data set contains 24 gene symbols and if 7 out of the 24 gene symbols belong to the database category “lipid metabolism”, then the sample frequency for “lipid metabolism” is 7/24. If there are 79 genes classified under the “lipid metabolism” category in an ontological database containing 8000 genes, then the background frequency for “lipid metabolism” will be 79/8000. Because the sample frequency is greater than the background frequency, “lipid metabolism” is enriched in the data set.\n",
    "\n",
    "We create a database dictionary from a text file that can be downloaded from the LMS. Place this file in the same directory as this notebook. **DO NOT** rename the file."
   ]
  },
  {
   "cell_type": "code",
   "execution_count": 12,
   "metadata": {},
   "outputs": [],
   "source": [
    "# Read in the database information from a text file to produce a dictionary.\n",
    "ontology_database = {}\n",
    "db = open(\"comp90016_exam_part_B_database.txt\")\n",
    "for category in db:\n",
    "    (category_name, entities) = category.split(\":\")\n",
    "    entities = entities[:-1].split()\n",
    "    ontology_database[category_name] = entities\n",
    "    \n",
    "# Create a list of gene symbols.    \n",
    "gene_list = ['BD2S', 'CAT3', 'G95L', 'DCBP', '2UG2', 'CS8K', 'L9K7', '3DB6', 'TCSI', 'RU63', 'RL3L', 'LACB', 'ACAB', 'P1RG', '96L7', 'BLM1', 'CI2K', '7A2L', 'I15O', '7P83', 'K1RO', '16AS', 'RBLG', '6B5T', '2DDT']\n"
   ]
  },
  {
   "cell_type": "markdown",
   "metadata": {},
   "source": [
    "### Questions\n",
    "\n",
    "In the cells below, complete the following tasks:\n",
    "\n",
    "4.1. (10 marks, 10 minutes max run-time). Write a Python function to identify the enriched categories from a list of gene symbols. Assume symbols is a list of gene symbols as strings. Assume database is a dictionary with strings representing category names as keys and lists of strings representing gene symbols as values. Return a list of the category names that are enriched. If no categories are enriched, return an empty list. If either symbols or database are of length 0, return None.\n",
    "\n",
    "4.2. (5 marks, 50 words max). Explain one advantage of a hierarchical structure in an ontological database.\n"
   ]
  },
  {
   "cell_type": "code",
   "execution_count": 13,
   "metadata": {},
   "outputs": [],
   "source": [
    "# ~~ GRADED CELL 4.1 (10 marks, 10 minutes max run-time) - complete this cell ~~\n",
    "def enrichment_analysis(symbols, database):\n",
    "    \"\"\"\n",
    "    Identify the enriched categories from a list of gene symbols.\n",
    "    Assume symbols is a list of gene symbols as strings.\n",
    "    Assume database is a dictionary with strings representing category names as keys\n",
    "    and lists of strings representing gene symbols as values.\n",
    "    Return a list of the category names that are enriched.\n",
    "    If no categories are enriched, return an empty list.\n",
    "    If either symbols or database are of length 0, return None.\n",
    "    \"\"\"\n",
    "    result = []\n",
    "    db_genes = set()\n",
    "    for genes in database.values():\n",
    "        for gene in genes:\n",
    "            db_genes.add(gene)\n",
    "    \n",
    "    for cat, genes in database.items():\n",
    "        count = len([symbol for symbol in symbols if symbol in genes])\n",
    "        sample_fre = count / len(genes)\n",
    "        bg_fre = len(genes) / len(db_genes)\n",
    "        if sample_fre > bg_fre:\n",
    "            result.append(cat)\n",
    "    return result"
   ]
  },
  {
   "cell_type": "code",
   "execution_count": 14,
   "metadata": {},
   "outputs": [
    {
     "name": "stdout",
     "output_type": "stream",
     "text": [
      "['cat1']\n",
      "['bacteriocin-catabolic-process', 'gliotoxin-catabolic-process', 'pigmentation', 'cuticle-pigmentation', 'eye-pigmentation', 'anaphase', 'telophase']\n"
     ]
    }
   ],
   "source": [
    "# ~~ Test your function in this cell ~~\n",
    "print(enrichment_analysis(['BA28', 'D0TE', '7AOT'], {'cat1': ['BA28', 'D0TE', 'LILB'], 'cat2': ['MKAO', '7AOT', 'SPUC']})) # should output ['cat1']\n",
    "\n",
    "print(enrichment_analysis(gene_list, ontology_database))\n"
   ]
  },
  {
   "cell_type": "markdown",
   "metadata": {},
   "source": [
    "~~ GRADED CELL 4.2 (5 marks, max 50 words) - complete this cell ~~\n",
    "\n",
    "Explain one advantage of a hierarchical structure in an ontological database.\n",
    "\n",
    "A search result is produced by traversing a pathway of tree structure instead of scanning the entire database, which reduces the searching complexity.\n"
   ]
  },
  {
   "cell_type": "markdown",
   "metadata": {},
   "source": [
    "## Part 5: Conservation Genomics\n",
    "### Setup\n",
    "\n",
    "Conservation Biologists are investigating recent reliable reports of sightings of a Snark on a remote uninhabited island. Until now it had been thought that Snarks had been hunted to extinction at the end of the 19th Century, with the last reported expedition to locate them being unsuccessful. This expedition was documented in a 1872 report by Charles Dodgson.\n",
    " \n",
    "The Snark is known to be similar in appearance to a closely related species known as a Boojum, which has a thriving population on a nearby island. However, little is known about the appearance, diet or social structure of Snark communities.\n",
    " \n",
    "Available resources:\n",
    "-  \tThe Snark genome has not been sequenced but the Boojum genome sequence and associated annotation file is publicly available.\n",
    "-  \tA nearby museum maintains a collection of a small number of well-preserved authentic Snark hides and bones, from which DNA has been successfully extracted.\n",
    "-  \tResearchers have successfully extracted DNA samples from recently collected scat and fur samples from the island. These are thought to have come from Snarks.\n",
    " \n",
    "Researchers are keen to confirm the existence of a live population of Snarks on the island and learn more about this elusive species so that the habitat can be managed in a way that supports the long term survival of the species.\n",
    "\n",
    "### Questions\n",
    "Answer the questions below based on the scenario above. \n",
    "\n",
    "- Answer the questions in the order that they are presented.\n",
    "- Answer in text format only, do not include figures or code. \n",
    "- Limit your discussion to aspects of the bioinformatics.  You can assume that the DNA and RNA extracted by the biologists are of sufficient quality and quantity for the analysis you propose.\n",
    "- Describe all necessary steps in the analysis pipeline.\n",
    "- You should include details such as; choice of sequencing technology, accepted data standards that should be met, anticipated quality control issues and their management, names of software tools employed at each step, validation steps, and the expected results for different potential outcomes.\n",
    " \n",
    "5.1 (20 marks, 300 words max).\n",
    "Using the information and resources from the scenario above, describe an experimental approach that could confirm if Snarks are currently living on the island.\n",
    " \n",
    "5.2 (15 marks, 300 words max).\n",
    "Some time has passed since your original analysis confirmed a healthy population of Snarks on the island.  Unfortunately, the population has recently crashed due to the introduction of disease to the island. However, researchers have determined that some animals seem to be resistant to the disease. In an effort to understand more about the disease and how to treat the animals they have extracted total RNA from blood samples collected from 20 disease affected and 20 disease resistant animals. \n",
    "\n",
    "Using the resources above, and any additional bioinformatics resources you generated during question 1, describe a bioinformatics analysis workflow to identify genes that are differentially expressed in disease affected animals.\n"
   ]
  },
  {
   "cell_type": "markdown",
   "metadata": {},
   "source": [
    "~~ GRADED CELL 5.1 (20 marks, 300 words max) - complete this cell ~~\n",
    "\n",
    "Using the information and resources from the scenario above, describe an experimental approach that could confirm if Snarks are currently living on the island.\n",
    "* use PCR to amplify the genome extracted from scat and fur with primers for 18s rRNA genes, \n",
    "* use Illumina to generate demultiplexed readsets for 18s rRNA genes of the samples.\n",
    "* trim primers and adaptors using trimmomatic\n",
    "* verify the read quality using FastQC, remove short reads and truncate poor quality bases.\n",
    "* use DADA2 to do ASV binning\n",
    "* use Silva database with the Snark DNA extracted from hidesand bones and the ASV as the query to do species level taxonomy classification, and verify whether the sample extracted from scat and fur is from Snark."
   ]
  },
  {
   "cell_type": "markdown",
   "metadata": {},
   "source": [
    "~~ GRADED CELL 5.2 (15 marks, 300 words max) - complete this cell ~~\n",
    "\n",
    "Some time has passed since your original analysis confirmed a healthy population of Snarks on the island.  Unfortunately, the population has recently crashed due to the introduction of disease to the island. However, researchers have determined that some animals seem to be resistant to the disease. In an effort to understand more about the disease and how to treat the animals they have extracted total RNA from blood samples collected from 20 disease affected and 20 disease resistant animals. \n",
    "\n",
    "Using the resources above, and any additional bioinformatics resources you generated during question 1, describe a bioinformatics analysis workflow to identify genes that are differentially expressed in disease affected animals.\n",
    "\n",
    "* use oligo dT purification to do rRNA deduction to the RNA samples of disease affeacted and disease resistant animals respectively.\n",
    "* reverse transcibe the mRNA to cDNA, and apply PCR amplification to the cDNA\n",
    "* use Illumina NGS to generate readsets, and use FastQC to do quality control\n",
    "* perform de novo assembly to generate contigs for disease affected and disease resistant genome respectively.\n",
    "* use GATK to analyse the variants between disease affected and disease resistant genome to identify the genes that are differentially expressed."
   ]
  }
 ],
 "metadata": {
  "kernelspec": {
   "display_name": "Python 3",
   "language": "python",
   "name": "python3"
  },
  "language_info": {
   "codemirror_mode": {
    "name": "ipython",
    "version": 3
   },
   "file_extension": ".py",
   "mimetype": "text/x-python",
   "name": "python",
   "nbconvert_exporter": "python",
   "pygments_lexer": "ipython3",
   "version": "3.7.7"
  }
 },
 "nbformat": 4,
 "nbformat_minor": 4
}