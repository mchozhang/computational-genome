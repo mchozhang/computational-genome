{
 "cells": [
  {
   "cell_type": "markdown",
   "metadata": {},
   "source": [
    "# COMP90016 - Assignment 2\n",
    "\n"
   ]
  },
  {
   "cell_type": "markdown",
   "metadata": {},
   "source": [
    "Version 3. Last edited 16/4/2020."
   ]
  },
  {
   "cell_type": "markdown",
   "metadata": {},
   "source": [
    "## Sample solutions\n",
    "\n",
    "Well done on completing assignment 2! In general, students did a great job writing thoughtful written answers. The coding question was challenging, but many students produced correct translated ORFs to some if not all test cases.\n",
    "\n",
    "We are pleased to say that only one or two students failed to upload a correctly formatted HTML file of their assignment along with their Juptyer notebook. This is a requirement for all future assignments. We will not be able to mark your assignment until you upload both files.\n",
    "\n",
    "Here are some of the most common mistakes.\n",
    "- Function output must be of the type specified in the instructions.\n",
    "- In genetic code 21, ATA encodes methionine but not an initiation codon. This led to some incorrect ORFs being identified.\n",
    "- The BLAST E-value is not a probability.\n",
    "- tBLASTn is required when searching a nucleotide database with a protein query.\n",
    "- Sensitivity is different to specificity. Sensitivity is not decreased if the number of false positive hits is increased.\n",
    "\n",
    "The sample solutions below provide a guide for students to compare to their own answers. These solutions are not the most efficient or succinct; they are written to be simple and easy to understand."
   ]
  },
  {
   "cell_type": "markdown",
   "metadata": {},
   "source": [
    "## Semester 1, 2020¶\n",
    "\n",
    "This assignment should be completed by each student individually. Make sure you read this entire document, and ask for help if anything is not clear. Any changes or clarification to this document will be announced via the LMS.\n",
    "\n",
    "Please make sure you are aware of the University's rules on academic honesty and plagiarism, which are very strict: https://academichonesty.unimelb.edu.au/\n",
    "\n",
    "Make sure you do not copy any code either from other students or from the internet. This is considered plagiarism. It is generally a good idea to avoid looking at any solutions as you may find it surprisingly difficult to generate your own solution to the problem once you have seen somebody else's.\n",
    "\n",
    "Your completed notebook file containing all your answers will be turned in via LMS. No other files or formats will be accepted - **only upload the completed .ipynb file.**\n",
    "\n",
    "## Overview\n",
    "\n",
    "To complete the assignment you will need to finish the tasks in this notebook. There are multiple tasks that are connected in a logical order.\n",
    "\n",
    "The tasks are a combination of writing your own code using library implementations, utilising bioinformatics tools and interpreting the results in short answer format.\n",
    "\n",
    ">Word limits, where stated, will be strictly enforced! Answers exceeding the limit will **NOT** be marked.\n",
    "\n",
    "In some cases, we have provided test input and test output that you can use to try out your solutions. These tests are just samples and are **not** exhaustive - they may warn you if you've made a mistake, but they are not guaranteed to. It's up to you to decide whether your code is correct.\n",
    "\n",
    "## Marking\n",
    "\n",
    "Cells that must be completed to receive marks are clearly labeled. Some cells are code cells, in which you must complete the code to solve a problem, and some are markdown cells, in which you must write your answers to short-answer questions. Please only add to graded cells, **do not remove or modify any text in graded cells** unless specified otherwise (please don't remove text like this: # ~~ GRADED CELL (1 mark) - complete this cell ~~ ).\n",
    "\n",
    "No marks are allocated to commenting in your your code. Likewise, no marks are allocated to the speed or complexity of your code. We do however, encourage efficient and well commented code.\n",
    "\n",
    "Your code will be tested on the comp90016_assignment_2_sequence.fasta file provided, as well as additional test cases. Your code must work on any correctly formatted FASTA file.\n",
    "\n",
    "The total marks for the assignment add up to 100, and it will be worth 10% of your overall subject grade.\n",
    "\n",
    "Part 1: 45 marks\n",
    "\n",
    "Part 2: 55 marks\n",
    "\n",
    "## Overview\n",
    "\n",
    "In this assignment, you will use functions in the `skbio` library to write an open reading frame (ORF) finder. You may want to refer to sections of the `skbio` documentation for additional help (http://scikit-bio.org/docs/0.5.2). Additional to `skbio` and standard Python 3 functions and methods, you may also use any other libraries installed on the COMP90016 server including collections, numpy and pandas. These can be found using help ('modules').\n",
    "\n",
    "You will also be asked to consider nested and overlapping ORFs and alternate genetic codes. In part 2, you will use BLAST to investigate a sequence from the genome of SARS-CoV-2 (COVID-19)."
   ]
  },
  {
   "cell_type": "markdown",
   "metadata": {},
   "source": [
    "## Part 1 - Genetic codes and open reading frames\n",
    "### Setup"
   ]
  },
  {
   "cell_type": "markdown",
   "metadata": {},
   "source": [
    "We begin by importing the `skbio` library. The `skbio.io.read` function reads the *FASTA* file. The function returns a generator object which can be used to loop through the file. Read https://realpython.com/introduction-to-python-generators/ to better understand generators and iterators in Python (this is not necessary to complete the assignment).\n",
    "\n",
    "The *FASTA* file you will be using can be downloaded from the LMS. Download the file and place it in the same folder where this notebook is. **DO NOT** rename the file. "
   ]
  },
  {
   "cell_type": "code",
   "execution_count": null,
   "metadata": {},
   "outputs": [],
   "source": [
    "# Import the skbio library.\n",
    "import skbio"
   ]
  },
  {
   "cell_type": "code",
   "execution_count": null,
   "metadata": {},
   "outputs": [],
   "source": [
    "# Read in the FASTA file to produce a generator object named registry.\n",
    "fname = 'comp90016_assignment_2_sequence.fasta'\n",
    "registry = skbio.io.read(fname, format = 'fasta')\n",
    "registry"
   ]
  },
  {
   "cell_type": "code",
   "execution_count": null,
   "metadata": {},
   "outputs": [],
   "source": [
    "# Assign the sequence to an skbio.DNA.sequence object named sequence.\n",
    "for seq in registry:\n",
    "    sequence = seq\n",
    "sequence = skbio.sequence.DNA(seq, lowercase = True)\n",
    "sequence"
   ]
  },
  {
   "cell_type": "markdown",
   "metadata": {},
   "source": [
    "Up until this point in the COMP90016 course, we have assumed that the standard genetic code applies. However, some organisms use different variations of the genetic code. You can see the differences at the site below. Note that some genetic codes have multiple initiation codons, some are more commonly used than others. The first amino acid of any ORF  is always methionine, even when an alternative initiation codon is used. In any other position, that codon may encode a different amino acid but, as a start codon, it will always code for methionine.\n",
    ">https://www.ncbi.nlm.nih.gov/Taxonomy/Utils/wprintgc.cgi"
   ]
  },
  {
   "cell_type": "markdown",
   "metadata": {},
   "source": [
    "These genetic codes can be referred to by a number. For example, the standard genetic code is genetic code 1.\n",
    "Fortunately, skbio has functions that can interpret alternate genetic codes. See the documentation for methods like .translate() and .translate_six_frames()\n",
    "\n",
    "The GeneticCode function can also be used to help you incorporate the genetic codes into your functions."
   ]
  },
  {
   "cell_type": "code",
   "execution_count": null,
   "metadata": {
    "scrolled": true
   },
   "outputs": [],
   "source": [
    "from skbio import GeneticCode\n",
    "\n",
    "# Show the standard genetic code. Try changing the number to view a different code.\n",
    "# Note that RNA codons are shown with the GeneticCode function where DNA codons are used on the NCBI site.\n",
    "GeneticCode.from_ncbi(1)"
   ]
  },
  {
   "cell_type": "markdown",
   "metadata": {},
   "source": [
    "Mitochondria are orgenelles that can be found within eukaryotic cells and are important for energy production. Mitochondria contain their own circular DNA genome that encodes a number of genes essential for oxidative phosphorylation. Mitochondria also maintain their own protein synthesis machinery and the genetic code for vertebrate mitochondria differs slightly from the standard genetic code. The genetic material of mitochondria is of interest to researchers as human diseases can result from mutations in mitochondrial DNA."
   ]
  },
  {
   "cell_type": "markdown",
   "metadata": {},
   "source": [
    "An open reading frame (ORF) is a continuous sequence of DNA that begins with a start codon and ends at a stop codon. ORFs can be located in any reading frame, can be overlapping or can be nested within another ORF.\n"
   ]
  },
  {
   "cell_type": "markdown",
   "metadata": {},
   "source": [
    "### Questions\n",
    "In the cells below, complete the following tasks:\n",
    "\n",
    "Suppose you are studying a mitochondrial genome from a human patient. The mitochondiral DNA has a rearrangement compared to the reference mitochondrial genome. You suspect that this rearrangement might result in the creation of a novel ORF.\n",
    "\n",
    "1.1. (5 marks, 50 words max) Describe the differences between the standard genetic code and the vertebrate mitochondrial genetic code.\n",
    "\n",
    "1.2. (10 marks, 50 words max) What could be the consequences of using the standard genetic code when looking for ORFs in the mitochondrial genome of the patient?\n",
    "\n",
    "1.3. (20 marks) Write a python function to identify the protein sequences resulting from the translation of the ORFs in a given DNA sequence. Return a list of skbio.sequence.Protein objects where the protein sequence is longer than min_len. Assume the input sequence is an skbio.sequence.DNA object. If the input is empty, return an empty list.\n",
    "Use the genetic code encoded by genetic_code. If genetic_code is not one of the NCBI options, use the standard code. Assume ORFs can start with any of the initiation codons and finish with any of the stop codons specified in the genetic code. Assume min_len is an integer. Only consider ORFs wholly contained within the sequence (including the start and stop codons).\n",
    "\n",
    "Consider the journal article below. Please read the summary and introduction. ORF-9b is an ORF from the genome of the SARS coronavirus that caused the SARS epidemic in 2003.\n",
    "\n",
    ">https://www.cell.com/structure/fulltext/S0969-2126(06)00251-6?_returnURL=https%3A%2F%2Flinkinghub.elsevier.com%2Fretrieve%2Fpii%2FS0969212606002516%3Fshowall%3Dtrue\n",
    "\n",
    "1.4. (10 marks, 50 words max) Explain how a single DNA sequence could encode multiple, overlapping gene-products."
   ]
  },
  {
   "cell_type": "markdown",
   "metadata": {},
   "source": [
    "~~ GRADED CELL (5 marks) - complete this cell ~~\n",
    "\n",
    "Describe the differences between the standard genetic code and the vertebrate mitochondrial genetic code. **50 words max**\n",
    "\n",
    "TGA, ATA, AGA and AGG encode STOP, isoleucine, arginine and arginine in the standard code. The same codons encode tryptophan, methionine/START, STOP and STOP in the vertebrate mitochondrial code. Alternative initiation codons also differ between the codes."
   ]
  },
  {
   "cell_type": "markdown",
   "metadata": {},
   "source": [
    "~~ GRADED CELL (10 marks) - complete this cell ~~\n",
    "\n",
    "What could be the consequences of using the standard genetic code when looking for ORFs in the mitochondrial genome of the patient? **50 words max**\n",
    "\n",
    "The differences in start and stop codons between the genetic codes mean that true mitochondrial ORFs may be missed and false positive ORFs may be detected. Predicted ORFs may also be truncated or extended compared to true ORFs due to these differences."
   ]
  },
  {
   "cell_type": "code",
   "execution_count": null,
   "metadata": {},
   "outputs": [],
   "source": [
    "# ~~ GRADED CELL (20 marks) - complete this cell ~~\n",
    "def translate_orfs(seq, min_len, genetic_code):\n",
    "    \"\"\"\n",
    "    Translate the ORFs in all reading frames of a DNA sequence. \n",
    "    Assume seq is a skbio.sequence.DNA object.\n",
    "    Assume min_len is an integer.\n",
    "    Assume genetic_code is an integer.\n",
    "    If genetic_code is not one of the NCBI options, use the standard code.\n",
    "    Return a list of skbio.sequence.Protein objects.\n",
    "    If the input sequence is empty, return an empty list.\n",
    "    \"\"\"\n",
    "    \n",
    "    # Initiate a list to contain the start codons for the genetic code.\n",
    "    starts = []\n",
    "    # Initiate a list to contain the two strands of the input sequence.\n",
    "    strands = []\n",
    "    # Initiate a list to contain potential ORF translations.\n",
    "    untrimmed_translated_orfs = []\n",
    "    # Initiate a list to contain the final translated ORFs.\n",
    "    translated_orfs = []\n",
    "    \n",
    "    # If the input sequence is empty, return an empty list.\n",
    "    if len(seq) == 0:\n",
    "        return translated_orfs\n",
    "    \n",
    "    # Create a list of codes compatible with the GeneticCode function.\n",
    "    compatible_codes = [1, 2, 3, 4, 5, 6, 9, 10, 11, 12, 13, 14, 16, 21, 22, 23, 24, 25]\n",
    "    # Set the genetic code to 1 if it not compatible with the GeneticCode function.\n",
    "    if genetic_code not in compatible_codes:\n",
    "        genetic_code = 1\n",
    "    \n",
    "    # Store the start codons for the genetic code in starts_ncbi.\n",
    "    starts_ncbi = GeneticCode.from_ncbi(genetic_code)._start_codons\n",
    "    # These start codons are encoded with numbers rather than nucleotide strings. This dictionary makes the conversion.\n",
    "    nucleotide_dict = {0:'T',1:'C',2:'A',3:'G'}\n",
    "    # Append the string of nucleotides for each start codon to starts.\n",
    "    for i in range(len(starts_ncbi)):\n",
    "        start_codon = ''\n",
    "        for base in starts_ncbi[i]:\n",
    "            start_codon += nucleotide_dict[base]\n",
    "        starts.append(start_codon)\n",
    "    \n",
    "    # Store the forward and reverse strands of the input sequence in strands.\n",
    "    strands.append(seq)\n",
    "    strands.append(seq[::-1].complement())\n",
    "    \n",
    "    # Iterate through each strand and find substrings that begin with start codons.\n",
    "    # Append the protein sequence of these substrings to untrimmed_orfs. \n",
    "    # Note that the protein sequences do not necessarily end with a *.\n",
    "    for strand in strands:\n",
    "        for i in range(len(strand)-3):\n",
    "            if str(strand[i:i+3]) in starts:\n",
    "                protein = str(strand[i:].translate(genetic_code))\n",
    "                untrimmed_translated_orfs.append(protein)\n",
    "    \n",
    "    # Iterate through the untrimmed translated orfs and replace the first amino acid with a methionine.\n",
    "    # Trim the translated ORFs at the first * and append the trimmed proteins to translated_orfs if longer than min_len.\n",
    "    # Discard any translated ORFs that are not followed by a *.\n",
    "    for orf in untrimmed_translated_orfs:\n",
    "        orf = \"M\" + orf[1:]\n",
    "        for i in range(len(orf)):\n",
    "            if orf[i] == \"*\":\n",
    "                if len(orf[:i]) > min_len:\n",
    "                    translated_orfs.append(skbio.sequence.Protein(orf[:i]))\n",
    "                break\n",
    "    \n",
    "    return translated_orfs\n"
   ]
  },
  {
   "cell_type": "code",
   "execution_count": null,
   "metadata": {},
   "outputs": [],
   "source": [
    "# ~~ Test your function in this cell ~~\n",
    "demo_sequence_a = skbio.sequence.DNA('GTTGGATTCATGAAAGA')\n",
    "print(translate_orfs(demo_sequence_a, 2, 1)) # should give a single sequence: MDS\n",
    "print(translate_orfs(demo_sequence_a, 2, 2)) # should give a single sequence: MHE\n",
    "demo_sequence_b = skbio.sequence.DNA('ATGAAATGAATGTCTTGA')\n",
    "print(translate_orfs(demo_sequence_b, 1, 1)) # should give two sequences: MK and MS\n",
    "demo_sequence_c = skbio.sequence.DNA('ATGAAAATGTCTTGA')\n",
    "print(translate_orfs(demo_sequence_c, 1, 100)) # should give two sequences: MKMS and MS\n",
    "\n",
    "print(translate_orfs(sequence, 60, 21))"
   ]
  },
  {
   "cell_type": "markdown",
   "metadata": {},
   "source": [
    "~~ GRADED CELL (10 marks) - complete this cell ~~\n",
    "\n",
    "Explain how a single DNA sequence could encode multiple, overlapping gene-products. **50 words max**\n",
    "\n",
    "There are several mechanisms by which a DNA sequence could encode multiple gene products. One example is that there could be two sets of overlapping start and stop codons in different reading frames."
   ]
  },
  {
   "cell_type": "markdown",
   "metadata": {},
   "source": [
    "## Part 2 - BLAST\n",
    "\n",
    "### Setup\n",
    "ORF-9b has been detected in multiple isolates of SARS coronavirus as well as in other coronaviruses that infect other animals. We would like to determine whether SARS-CoV-2 (COVID-19) has an ORF that is homologous to ORF-9b in other coronaviruses. We will be using BLAST on the command line for this purpose.\n",
    "\n",
    "We will be using a sequence from an isolate of SARS-CoV-2 sequenced in December 2019 in Wuhan, China. \n",
    "\n",
    ">https://www.viprbrc.org/brc/viprStrainDetails.spg?ncbiAccession=MN908947&decorator=corona\n",
    "\n",
    "Using the ViPR link above, navigate to and download a FASTA file of the DNA sequence for the nucleocapsid (N) gene of the SARS-CoV-2 isolate. Rename the file comp90016_COVID19_N.fasta.\n",
    "\n",
    "Download the file comp90016_9b.fasta file from the LMS and place it in the same directory as the comp90016_COVID19_N.fasta file.\n",
    "\n",
    "This file contains ORF-9b sequences from a selection of characterised coronaviruses.\n",
    "\n",
    "BLAST is already installed on the COMP90016 server. If you would like to use your personal computer, installation instructions can be found here https://www.ncbi.nlm.nih.gov/books/NBK279671/.\n"
   ]
  },
  {
   "cell_type": "markdown",
   "metadata": {},
   "source": [
    "Navigate to the directory containing the fasta files. \n",
    "\n",
    "First, we need to build a custom BLAST database from the ORF-9b sequences. Do this with the following command.\n",
    "\n",
    "`makeblastdb -dbtype nucl -in comp90016_assignment_2_9b.fasta`\n",
    "\n",
    "You will see some extra files have appeared.\n",
    "\n",
    "Next, we will perform the BLAST search with the following command.\n",
    "\n",
    "`blastn -query comp90016_COVID19_N.fasta -db comp90016_assignment_2_9b.fasta -outfmt \"7 std ppos\"`\n",
    "\n",
    "The results will be printed in tabulated form. You can pipe the results to a file if you prefer."
   ]
  },
  {
   "cell_type": "markdown",
   "metadata": {},
   "source": [
    "### Questions\n",
    "\n",
    "In the cells below, complete the following tasks:\n",
    "\n",
    "2.1. (5 marks, 50 words max) Explain one factor that is important to consider when selecting a database for a BLAST search.\n",
    "\n",
    "2.2. (10 marks, 50 words max) Is there evidence from the BLAST results that the COVID-19 N gene has a internal ORF homologous to ORF-9b sequences in other coronaviruses? What was the highest scoring hit? \n",
    "\n",
    "2.3. (10 marks, 50 words max) Interpret the E-value of the top scoring BLAST hit.\n",
    "\n",
    "2.4. (10 marks, 50 words max) Explain the difference between the “% identity” and “% positive” fields.\n",
    "\n",
    "2.5. (10 marks, 50 words max) Modify the provided BLAST command to work with an input of a protein sequence FASTA file (named comp90016_COVID19_N_protein.fasta). Decrease the word-size parameter from the default value to 2. Please use the same custom database used previously. Note that you are not required to execute this command.\n",
    "\n",
    "2.6. (10 marks, 50 words max) What effect would decreasing the word size have on the sensitivity (ability to detect true homologs) and run-time of the search?\n",
    "    "
   ]
  },
  {
   "cell_type": "markdown",
   "metadata": {},
   "source": [
    "~~ GRADED CELL (5 marks) - complete this cell ~~\n",
    "\n",
    "Explain one factor that is important to consider when selecting a database for a BLAST search. **50 words max**\n",
    "\n",
    "Database curation is one factor that might influence the choice of database for a BLAST search. Curated databases reduce redundancy and contain only up-to-date sequence information."
   ]
  },
  {
   "cell_type": "markdown",
   "metadata": {},
   "source": [
    "~~ GRADED CELL (10 marks) - complete this cell ~~\n",
    "\n",
    "Is there evidence from the BLAST results that the COVID-19 N gene has a internal ORF homologous to ORF-9b sequences in other coronaviruses? What was the highest scoring hit? **50 words max**\n",
    "\n",
    "The BLAST results provide evidence that the COVID-19 virus has a sequence homologous to ORF-9b sequences from other coronaviruses due to the E-values from the six hits being close to zero. The highest scoring hit was from bat coronavirus HKU3 ORF 9b, with a bit-score of 366."
   ]
  },
  {
   "cell_type": "markdown",
   "metadata": {},
   "source": [
    "~~ GRADED CELL (10 marks) - complete this cell ~~\n",
    "\n",
    "Interpret the E-value of the top scoring BLAST hit. **50 words max**\n",
    "\n",
    "There are 7.49e-105 hits predicted to occur between the query sequence and a random database of the same size, with equivalent or higher bit-score, using the same BLAST parameters."
   ]
  },
  {
   "cell_type": "markdown",
   "metadata": {},
   "source": [
    "~~ GRADED CELL (10 marks) - complete this cell ~~\n",
    "\n",
    "Explain the difference between the “% identity” and “% positive” fields. **50 words max**\n",
    "\n",
    "% identity is the percentage of positions in the alignment that are identical between query and database sequence. % positive is the percentage of alignment positions that have a positive score in a given substitution matrix."
   ]
  },
  {
   "cell_type": "markdown",
   "metadata": {},
   "source": [
    "~~ GRADED CELL (10 marks) - complete this cell ~~\n",
    "\n",
    "Modify the provided BLAST command to work with an input of a protein sequence FASTA file (named comp90016_COVID19_N_protein.fasta). Decrease the word-size parameter from the default value to 2. Please use the same custom database used previously. Note that you are not required to execute this command. Write the command below. **50 words max**\n",
    "\n",
    "tblastn -query comp90016_COVID19_N_protein.fasta -db comp90016_assignment_2_9b.fasta -word_size 2 -outfmt \"7 std ppos\" "
   ]
  },
  {
   "cell_type": "markdown",
   "metadata": {},
   "source": [
    "~~ GRADED CELL (10 marks) - complete this cell ~~\n",
    "\n",
    "What effect would decreasing the word size have on the sensitivity (ability to detect true homologs) and run-time of the search? **50 words max**\n",
    "\n",
    "Decreasing the word size results in a higher sensitivity to detect true homologs. True homologs are less likely to be missed due to mismatches with the seed. The greater number of seed extensions results in an increased run-time."
   ]
  }
 ],
 "metadata": {
  "kernelspec": {
   "display_name": "Python 3",
   "language": "python",
   "name": "python3"
  },
  "language_info": {
   "codemirror_mode": {
    "name": "ipython",
    "version": 3
   },
   "file_extension": ".py",
   "mimetype": "text/x-python",
   "name": "python",
   "nbconvert_exporter": "python",
   "pygments_lexer": "ipython3",
   "version": "3.7.7"
  }
 },
 "nbformat": 4,
 "nbformat_minor": 4
}
