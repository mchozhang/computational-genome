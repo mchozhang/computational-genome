{
 "cells": [
  {
   "cell_type": "markdown",
   "metadata": {},
   "source": [
    "# COMP90016 - Assignment 2\n",
    "\n"
   ]
  },
  {
   "cell_type": "markdown",
   "metadata": {},
   "source": [
    "Version 3. Last edited 16/4/2020."
   ]
  },
  {
   "cell_type": "markdown",
   "metadata": {},
   "source": [
    "## Semester 1, 2020¶\n",
    "\n",
    "This assignment should be completed by each student individually. Make sure you read this entire document, and ask for help if anything is not clear. Any changes or clarification to this document will be announced via the LMS.\n",
    "\n",
    "Please make sure you are aware of the University's rules on academic honesty and plagiarism, which are very strict: https://academichonesty.unimelb.edu.au/\n",
    "\n",
    "Make sure you do not copy any code either from other students or from the internet. This is considered plagiarism. It is generally a good idea to avoid looking at any solutions as you may find it surprisingly difficult to generate your own solution to the problem once you have seen somebody else's.\n",
    "\n",
    "Your completed notebook file containing all your answers will be turned in via LMS. No other files or formats will be accepted - **only upload the completed .ipynb file.**\n",
    "\n",
    "## Overview\n",
    "\n",
    "To complete the assignment you will need to finish the tasks in this notebook. There are multiple tasks that are connected in a logical order.\n",
    "\n",
    "The tasks are a combination of writing your own code using library implementations, utilising bioinformatics tools and interpreting the results in short answer format.\n",
    "\n",
    ">Word limits, where stated, will be strictly enforced! Answers exceeding the limit will **NOT** be marked.\n",
    "\n",
    "In some cases, we have provided test input and test output that you can use to try out your solutions. These tests are just samples and are **not** exhaustive - they may warn you if you've made a mistake, but they are not guaranteed to. It's up to you to decide whether your code is correct.\n",
    "\n",
    "## Marking\n",
    "\n",
    "Cells that must be completed to receive marks are clearly labeled. Some cells are code cells, in which you must complete the code to solve a problem, and some are markdown cells, in which you must write your answers to short-answer questions. Please only add to graded cells, **do not remove or modify any text in graded cells** unless specified otherwise (please don't remove text like this: # ~~ GRADED CELL (1 mark) - complete this cell ~~ ).\n",
    "\n",
    "No marks are allocated to commenting in your your code. Likewise, no marks are allocated to the speed or complexity of your code. We do however, encourage efficient and well commented code.\n",
    "\n",
    "Your code will be tested on the comp90016_assignment_2_sequence.fasta file provided, as well as additional test cases. Your code must work on any correctly formatted FASTA file.\n",
    "\n",
    "The total marks for the assignment add up to 100, and it will be worth 10% of your overall subject grade.\n",
    "\n",
    "Part 1: 45 marks\n",
    "\n",
    "Part 2: 55 marks\n",
    "\n",
    "## Overview\n",
    "\n",
    "In this assignment, you will use functions in the `skbio` library to write an open reading frame (ORF) finder. You may want to refer to sections of the `skbio` documentation for additional help (http://scikit-bio.org/docs/0.5.2). Additional to `skbio` and standard Python 3 functions and methods, you may also use any other libraries installed on the COMP90016 server including collections, numpy and pandas. These can be found using help ('modules').\n",
    "\n",
    "You will also be asked to consider nested and overlapping ORFs and alternate genetic codes. In part 2, you will use BLAST to investigate a sequence from the genome of SARS-CoV-2 (COVID-19)."
   ]
  },
  {
   "cell_type": "markdown",
   "metadata": {},
   "source": [
    "## Part 1 - Genetic codes and open reading frames\n",
    "### Setup"
   ]
  },
  {
   "cell_type": "markdown",
   "metadata": {},
   "source": [
    "We begin by importing the `skbio` library. The `skbio.io.read` function reads the *FASTA* file. The function returns a generator object which can be used to loop through the file. Read https://realpython.com/introduction-to-python-generators/ to better understand generators and iterators in Python (this is not necessary to complete the assignment).\n",
    "\n",
    "The *FASTA* file you will be using can be downloaded from the LMS. Download the file and place it in the same folder where this notebook is. **DO NOT** rename the file. "
   ]
  },
  {
   "cell_type": "code",
   "execution_count": null,
   "metadata": {},
   "outputs": [],
   "source": [
    "# Import the skbio library.\n",
    "import skbio"
   ]
  },
  {
   "cell_type": "code",
   "execution_count": null,
   "metadata": {},
   "outputs": [],
   "source": [
    "# Read in the FASTA file to produce a generator object named registry.\n",
    "fname = 'comp90016_assignment_2_sequence.fasta'\n",
    "registry = skbio.io.read(fname, format = 'fasta')\n",
    "registry"
   ]
  },
  {
   "cell_type": "code",
   "execution_count": null,
   "metadata": {},
   "outputs": [],
   "source": [
    "# Assign the sequence to an skbio.DNA.sequence object named sequence.\n",
    "for seq in registry:\n",
    "    sequence = seq\n",
    "sequence = skbio.sequence.DNA(seq, lowercase = True)\n",
    "sequence"
   ]
  },
  {
   "cell_type": "markdown",
   "metadata": {},
   "source": [
    "Up until this point in the COMP90016 course, we have assumed that the standard genetic code applies. However, some organisms use different variations of the genetic code. You can see the differences at the site below. Note that some genetic codes have multiple initiation codons, some are more commonly used than others. The first amino acid of any ORF  is always methionine, even when an alternative initiation codon is used. In any other position, that codon may encode a different amino acid but, as a start codon, it will always code for methionine.\n",
    ">https://www.ncbi.nlm.nih.gov/Taxonomy/Utils/wprintgc.cgi"
   ]
  },
  {
   "cell_type": "markdown",
   "metadata": {},
   "source": [
    "These genetic codes can be referred to by a number. For example, the standard genetic code is genetic code 1.\n",
    "Fortunately, skbio has functions that can interpret alternate genetic codes. See the documentation for methods like .translate() and .translate_six_frames()\n",
    "\n",
    "The GeneticCode function can also be used to help you incorporate the genetic codes into your functions."
   ]
  },
  {
   "cell_type": "code",
   "execution_count": null,
   "metadata": {
    "scrolled": true
   },
   "outputs": [],
   "source": [
    "from skbio import GeneticCode\n",
    "\n",
    "# Show the standard genetic code. Try changing the number to view a different code.\n",
    "# Note that RNA codons are shown with the GeneticCode function where DNA codons are used on the NCBI site.\n",
    "GeneticCode.from_ncbi(1)"
   ]
  },
  {
   "cell_type": "markdown",
   "metadata": {},
   "source": [
    "Mitochondria are orgenelles that can be found within eukaryotic cells and are important for energy production. Mitochondria contain their own circular DNA genome that encodes a number of genes essential for oxidative phosphorylation. Mitochondria also maintain their own protein synthesis machinery and the genetic code for vertebrate mitochondria differs slightly from the standard genetic code. The genetic material of mitochondria is of interest to researchers as human diseases can result from mutations in mitochondrial DNA."
   ]
  },
  {
   "cell_type": "markdown",
   "metadata": {},
   "source": [
    "An open reading frame (ORF) is a continuous sequence of DNA that begins with a start codon and ends at a stop codon. ORFs can be located in any reading frame, can be overlapping or can be nested within another ORF.\n"
   ]
  },
  {
   "cell_type": "markdown",
   "metadata": {},
   "source": [
    "### Questions\n",
    "In the cells below, complete the following tasks:\n",
    "\n",
    "Suppose you are studying a mitochondrial genome from a human patient. The mitochondiral DNA has a rearrangement compared to the reference mitochondrial genome. You suspect that this rearrangement might result in the creation of a novel ORF.\n",
    "\n",
    "1.1. (5 marks, 50 words max) Describe the differences between the standard genetic code and the vertebrate mitochondrial genetic code.\n",
    "\n",
    "1.2. (10 marks, 50 words max) What could be the consequences of using the standard genetic code when looking for ORFs in the mitochondrial genome of the patient?\n",
    "\n",
    "1.3. (20 marks) Write a python function to identify the protein sequences resulting from the translation of the ORFs in a given DNA sequence. Return a list of skbio.sequence.Protein objects where the protein sequence is longer than min_len. Assume the input sequence is an skbio.sequence.DNA object. If the input is empty, return an empty list.\n",
    "Use the genetic code encoded by genetic_code. If genetic_code is not one of the NCBI options, use the standard code. Assume ORFs can start with any of the initiation codons and finish with any of the stop codons specified in the genetic code. Assume min_len is an integer. Only consider ORFs wholly contained within the sequence (including the start and stop codons).\n",
    "\n",
    "Consider the journal article below. Please read the summary and introduction. ORF-9b is an ORF from the genome of the SARS coronavirus that caused the SARS epidemic in 2003.\n",
    "\n",
    ">https://www.cell.com/structure/fulltext/S0969-2126(06)00251-6?_returnURL=https%3A%2F%2Flinkinghub.elsevier.com%2Fretrieve%2Fpii%2FS0969212606002516%3Fshowall%3Dtrue\n",
    "\n",
    "1.4. (10 marks, 50 words max) Explain how a single DNA sequence could encode multiple, overlapping gene-products."
   ]
  },
  {
   "cell_type": "markdown",
   "metadata": {},
   "source": [
    "~~ GRADED CELL (5 marks) - complete this cell ~~\n",
    "\n",
    "Describe the differences between the standard genetic code and the vertebrate mitochondrial genetic code. **50 words max**\n",
    "\n",
    "They have different termination codons, and the vertebrate mitochondrial code has more alternative initiation codons in some cases. Therefore, in a few cases the same sequence can be translated into different amino acids with these 2 genetic codes,"
   ]
  },
  {
   "cell_type": "markdown",
   "metadata": {},
   "source": [
    "~~ GRADED CELL (10 marks) - complete this cell ~~\n",
    "\n",
    "What could be the consequences of using the standard genetic code when looking for ORFs in the mitochondrial genome of the patient? **50 words max**\n",
    "\n",
    "Standard genetic code uses different initiation and termination codons which could mistakenly locate the start and end positions of the ORFs. In other words, the sequences that it found aren't the real ORFs that it looks for."
   ]
  },
  {
   "cell_type": "code",
   "execution_count": null,
   "metadata": {},
   "outputs": [],
   "source": [
    "# ~~ GRADED CELL (20 marks) - complete this cell ~~\n",
    "def translate_orfs(seq, min_len, genetic_code):\n",
    "    \"\"\"\n",
    "    Translate the ORFs in all reading frames of a DNA sequence. \n",
    "    Assume seq is a skbio.sequence.DNA object.\n",
    "    Assume min_len is an integer.\n",
    "    Assume genetic_code is an integer.\n",
    "    If genetic_code is not one of the NCBI options, use the standard code.\n",
    "    Return a list of skbio.sequence.Protein objects.\n",
    "    If the input sequence is empty, return an empty list.\n",
    "    \"\"\"\n",
    "    try:\n",
    "        GeneticCode.from_ncbi(genetic_code)\n",
    "    except ValueError:\n",
    "        genetic_code = 1\n",
    "\n",
    "    res = []\n",
    "\n",
    "    def process(dna_seq):\n",
    "        for frame in [1, 2, 3]:\n",
    "            processed_seq = skbio.sequence.DNA(str(dna_seq))\n",
    "            full_translation = processed_seq.translate(genetic_code, reading_frame=frame)\n",
    "            while True:\n",
    "                try:\n",
    "                    # acquire ORF through translation\n",
    "                    half_translation = processed_seq.translate(genetic_code, reading_frame=frame, start='require')\n",
    "                    orf = processed_seq.translate(genetic_code, reading_frame=frame, start='require', stop='require')\n",
    "                    res.append(orf)\n",
    "\n",
    "                    # compare ORF with the full translation sequence,\n",
    "                    # find the position to truncate the DNA sequence and keep processing to find the remaining ORFs\n",
    "                    start_index = 3 * full_translation.index(half_translation[1:]) + frame - 1\n",
    "                    processed_seq = skbio.sequence.DNA(dna_seq[start_index:])\n",
    "                except ValueError:\n",
    "                    break\n",
    "\n",
    "    # process the original and the reverse complement sequence with 1-3 reading frames respectively\n",
    "    process(seq)\n",
    "    process(seq.reverse_complement())\n",
    "\n",
    "    return list(filter(lambda x: len(x) >= min_len, res))"
   ]
  },
  {
   "cell_type": "code",
   "execution_count": null,
   "metadata": {},
   "outputs": [],
   "source": [
    "# ~~ Test your function in this cell ~~\n",
    "demo_sequence_a = skbio.sequence.DNA('GTTGGATTCATGAAAGA')\n",
    "print(translate_orfs(demo_sequence_a, 2, 1)) # should give a single sequence: MDS\n",
    "print(translate_orfs(demo_sequence_a, 2, 2)) # should give a single sequence: MHE\n",
    "demo_sequence_b = skbio.sequence.DNA('ATGAAATGAATGTCTTGA')\n",
    "print(translate_orfs(demo_sequence_b, 1, 1)) # should give two sequences: MK and MS\n",
    "demo_sequence_c = skbio.sequence.DNA('ATGAAAATGTCTTGA')\n",
    "print(translate_orfs(demo_sequence_c, 1, 100)) # should give two sequences: MKMS and MS\n",
    "\n",
    "print(translate_orfs(sequence, 60, 21))"
   ]
  },
  {
   "cell_type": "markdown",
   "metadata": {},
   "source": [
    "~~ GRADED CELL (10 marks) - complete this cell ~~\n",
    "\n",
    "Explain how a single DNA sequence could encode multiple, overlapping gene-products. **50 words max**\n",
    "\n",
    "They can be produced by\n",
    "* having multiple start codons where translation may fail to initiate at some of them;\n",
    "* having multiple ribosome entry sites;\n",
    "* ribosome shutting in which ribosome bypasses untranslated region to reach the start codon;\n",
    "* re-starting the translation after termination."
   ]
  },
  {
   "cell_type": "markdown",
   "metadata": {},
   "source": [
    "## Part 2 - BLAST\n",
    "\n",
    "### Setup\n",
    "ORF-9b has been detected in multiple isolates of SARS coronavirus as well as in other coronaviruses that infect other animals. We would like to determine whether SARS-CoV-2 (COVID-19) has an ORF that is homologous to ORF-9b in other coronaviruses. We will be using BLAST on the command line for this purpose.\n",
    "\n",
    "We will be using a sequence from an isolate of SARS-CoV-2 sequenced in December 2019 in Wuhan, China. \n",
    "\n",
    ">https://www.viprbrc.org/brc/viprStrainDetails.spg?ncbiAccession=MN908947&decorator=corona\n",
    "\n",
    "Using the ViPR link above, navigate to and download a FASTA file of the DNA sequence for the nucleocapsid (N) gene of the SARS-CoV-2 isolate. Rename the file comp90016_COVID19_N.fasta.\n",
    "\n",
    "Download the file comp90016_9b.fasta file from the LMS and place it in the same directory as the comp90016_COVID19_N.fasta file.\n",
    "\n",
    "This file contains ORF-9b sequences from a selection of characterised coronaviruses.\n",
    "\n",
    "BLAST is already installed on the COMP90016 server. If you would like to use your personal computer, installation instructions can be found here https://www.ncbi.nlm.nih.gov/books/NBK279671/.\n"
   ]
  },
  {
   "cell_type": "markdown",
   "metadata": {},
   "source": [
    "Navigate to the directory containing the fasta files. \n",
    "\n",
    "First, we need to build a custom BLAST database from the ORF-9b sequences. Do this with the following command.\n",
    "\n",
    "`makeblastdb -dbtype nucl -in comp90016_assignment_2_9b.fasta`\n",
    "\n",
    "You will see some extra files have appeared.\n",
    "\n",
    "Next, we will perform the BLAST search with the following command.\n",
    "\n",
    "`blastn -query comp90016_COVID19_N.fasta -db comp90016_assignment_2_9b.fasta -outfmt \"7 std ppos\"`\n",
    "\n",
    "The results will be printed in tabulated form. You can pipe the results to a file if you prefer."
   ]
  },
  {
   "cell_type": "markdown",
   "metadata": {},
   "source": [
    "### Questions\n",
    "\n",
    "In the cells below, complete the following tasks:\n",
    "\n",
    "2.1. (5 marks, 50 words max) Explain one factor that is important to consider when selecting a database for a BLAST search.\n",
    "\n",
    "2.2. (10 marks, 50 words max) Is there evidence from the BLAST results that the COVID-19 N gene has a internal ORF homologous to ORF-9b sequences in other coronaviruses? What was the highest scoring hit? \n",
    "\n",
    "2.3. (10 marks, 50 words max) Interpret the E-value of the top scoring BLAST hit.\n",
    "\n",
    "2.4. (10 marks, 50 words max) Explain the difference between the “% identity” and “% positive” fields.\n",
    "\n",
    "2.5. (10 marks, 50 words max) Modify the provided BLAST command to work with an input of a protein sequence FASTA file (named comp90016_COVID19_N_protein.fasta). Decrease the word-size parameter from the default value to 2. Please use the same custom database used previously. Note that you are not required to execute this command.\n",
    "\n",
    "2.6. (10 marks, 50 words max) What effect would decreasing the word size have on the sensitivity (ability to detect true homologs) and run-time of the search?\n",
    "    "
   ]
  },
  {
   "cell_type": "markdown",
   "metadata": {},
   "source": [
    "~~ GRADED CELL (5 marks) - complete this cell ~~\n",
    "\n",
    "Explain one factor that is important to consider when selecting a database for a BLAST search. **50 words max**\n",
    "\n",
    "The type of input of the query, such as DNA, RNA or protein sequence."
   ]
  },
  {
   "cell_type": "markdown",
   "metadata": {},
   "source": [
    "~~ GRADED CELL (10 marks) - complete this cell ~~\n",
    "\n",
    "Is there evidence from the BLAST results that the COVID-19 N gene has a internal ORF homologous to ORF-9b sequences in other coronaviruses? What was the highest scoring hit? **50 words max**\n",
    "\n",
    "Yes, the covid19 N sequence is highly similar with the 6 coronavirus sequences, reflected by the e-value result and identity rate, which implies(not proves) they have homologous ORF. The highest scoring hit was the bat_coronavirus_HKU3_orf_9b with bit score of 366."
   ]
  },
  {
   "cell_type": "markdown",
   "metadata": {},
   "source": [
    "~~ GRADED CELL (10 marks) - complete this cell ~~\n",
    "\n",
    "Interpret the E-value of the top scoring BLAST hit. **50 words max**\n",
    "\n",
    "E-value of the top scoring hit is 7.49e-105, which means we expect to see the number of 7.49$\\times$10<sup>-106</sup> hit by chance with the current database size, and it is very close to 0, therefore the sequences are highly related."
   ]
  },
  {
   "cell_type": "markdown",
   "metadata": {},
   "source": [
    "~~ GRADED CELL (10 marks) - complete this cell ~~\n",
    "\n",
    "Explain the difference between the “% identity” and “% positive” fields. **50 words max**\n",
    "\n",
    "\"% identity\" means the percentage of the characters of the sequences are identical, \"% positive\" means the percentage of the amino acids (tranlasted by the sequence) that either identical or have similar chemical properties that can be used for common substitution."
   ]
  },
  {
   "cell_type": "markdown",
   "metadata": {},
   "source": [
    "~~ GRADED CELL (10 marks) - complete this cell ~~\n",
    "\n",
    "Modify the provided BLAST command to work with an input of a protein sequence FASTA file (named comp90016_COVID19_N_protein.fasta). Decrease the word-size parameter from the default value to 2. Please use the same custom database used previously. Note that you are not required to execute this command. Write the command below. **50 words max**\n",
    "\n",
    "```\n",
    "tblastn -query comp90016_COVID19_N_protein.fasta -db comp90016_assignment_2_9b.fasta -word_size 2\n",
    "```"
   ]
  },
  {
   "cell_type": "markdown",
   "metadata": {},
   "source": [
    "~~ GRADED CELL (10 marks) - complete this cell ~~\n",
    "\n",
    "What effect would decreasing the word size have on the sensitivity (ability to detect true homologs) and run-time of the search? **50 words max**\n",
    "\n",
    "Decreasing the word size would decrease the sensitivity and increase the run-time."
   ]
  }
 ],
 "metadata": {
  "kernelspec": {
   "display_name": "Python 3",
   "language": "python",
   "name": "python3"
  },
  "language_info": {
   "codemirror_mode": {
    "name": "ipython",
    "version": 3
   },
   "file_extension": ".py",
   "mimetype": "text/x-python",
   "name": "python",
   "nbconvert_exporter": "python",
   "pygments_lexer": "ipython3",
   "version": "3.7.7"
  }
 },
 "nbformat": 4,
 "nbformat_minor": 4
}
