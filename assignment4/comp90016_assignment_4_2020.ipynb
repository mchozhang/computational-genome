{
 "cells": [
  {
   "cell_type": "markdown",
   "metadata": {},
   "source": [
    "# COMP90016 - Assignment 4\n",
    "\n",
    "## Semester 1, 2020"
   ]
  },
  {
   "cell_type": "markdown",
   "metadata": {},
   "source": [
    "Version 1. Last edited 9/5/2020."
   ]
  },
  {
   "cell_type": "markdown",
   "metadata": {},
   "source": [
    "\n",
    "This assignment should be completed by each student individually. Make sure you read this entire document, and ask for help if anything is not clear. Any changes or clarifications to this document will be announced via the LMS.\n",
    "\n",
    "Please make sure you are aware of the University's rules on academic honesty and plagiarism, which are very strict: https://academichonesty.unimelb.edu.au/\n",
    "\n",
    "Make sure you do not copy any code either from other students or from the internet. This is considered plagiarism. It is generally a good idea to avoid looking at any solutions as you may find it surprisingly difficult to generate your own solution to the problem once you have seen somebody else's.\n",
    "\n",
    "Your completed notebook file containing all your answers will be turned in via LMS. Please also submit an HTML file with the output cleared.\n",
    "\n",
    "To complete the assignment, you will need to finish the tasks in this notebook. There are multiple tasks that are connected in a logical order.\n",
    "\n",
    "The tasks are a combination of writing your own code using library implementations, utilising bioinformatics tools and interpreting the results in short answer format.\n",
    "\n",
    "In some cases, we have provided test input and test output that you can use to try out your solutions. These tests are just samples and are **not** exhaustive - they may warn you if you've made a mistake, but they are not guaranteed to. It's up to you to decide whether your code is correct.\n",
    "\n",
    "## Marking\n",
    "\n",
    "Cells that must be completed to receive marks are clearly labelled. Some cells are code cells, in which you must complete the code to solve a problem. Others are markdown cells, in which you must write your answers to short-answer questions. Please only add to graded cells, **do not remove or modify any text in graded cells** unless specified otherwise (please don't remove text like this: # ~~ GRADED CELL (1 mark) - complete this cell ~~ ).\n",
    "\n",
    ">Word limits, where stated, will be strictly enforced! Answers exceeding the limit **will not be marked**.\n",
    "\n",
    ">Run-time limits will be imposed for each coding question. Your code will be tested on the COMP90016 server, so make sure you test your run-times there. The run-time of a code cell can be calculated by including `%time` at the top of your cell. Cells exceeding the run-time limit **will not be marked**.\n",
    "\n",
    "No marks are allocated to commenting in your code. We do however, encourage efficient and well commented code.\n",
    "\n",
    "The total marks for the assignment add up to 100, and it will be worth 10% of your overall subject grade.\n",
    "\n",
    "Part 1: 25 marks\n",
    "\n",
    "Part 2: 25 marks\n",
    "\n",
    "Part 3: 50 marks\n",
    "\n",
    "## Overview\n",
    "\n",
    "In this assignment, you will answer questions about multiple sequence alignment, RNA-seq and metagenomics. \n",
    "\n",
    "You will use the `skbio` library to write functions related to multiple sequence alignment. You may want to refer to sections of the `skbio` documentation for additional help (http://scikit-bio.org/docs/0.5.2). Additional to `skbio` and standard Python 3 functions and methods, you may also use any other libraries installed on the COMP90016 server including collections, numpy, pandas, math and itertools. These can be found using help ('modules')."
   ]
  },
  {
   "cell_type": "markdown",
   "metadata": {},
   "source": [
    "## Part 1: Multiple Sequence Alignment\n",
    "### Setup"
   ]
  },
  {
   "cell_type": "markdown",
   "metadata": {},
   "source": [
    "We begin by importing the relevant classes from the `skbio` library. We will be using the skbio.alignment.TabularMSA class to access multiple sequence alignment (MSA) information. For more information about skbio.alignment.TabularMSA objects and how to use them, follow the link below.\n",
    "> http://scikit-bio.org/docs/0.5.1/generated/skbio.alignment.TabularMSA.html\n",
    "\n",
    "We will be using an MSA of the *aphA-3* gene from four different isolates of the bacterium *Enterococcus faecium*.\n",
    "\n",
    "We will import this information from a FASTA file that can be downloaded from the LMS. Place this file in the same directory as this notebook. **DO NOT** rename the file. "
   ]
  },
  {
   "cell_type": "code",
   "execution_count": null,
   "metadata": {},
   "outputs": [],
   "source": [
    "# Import the necessary classes from skbio.\n",
    "from skbio import DNA, TabularMSA"
   ]
  },
  {
   "cell_type": "code",
   "execution_count": null,
   "metadata": {
    "scrolled": true
   },
   "outputs": [],
   "source": [
    "# Create an skbio.alignment.TabularMSA object from the FASTA file.\n",
    "msa_aphA3 = TabularMSA.read(\"comp90016_assignment_4_aln.fasta\", constructor = DNA)\n",
    "# Give each sequence an index name.\n",
    "msa_aphA3.reassign_index(mapping={0: 'isolate_a', 1: 'isolate_b', 2: 'isolate_c', 3: 'isolate_d'})\n",
    "# Get the dimensions of the data (number and length of sequences).\n",
    "msa_aphA3.shape\n"
   ]
  },
  {
   "cell_type": "code",
   "execution_count": null,
   "metadata": {},
   "outputs": [],
   "source": [
    "# Create demo MSAs for test input.\n",
    "seqs_a = [DNA('ACGT'), DNA('AGGT'), DNA('AC-T')]\n",
    "seqs_b = [DNA('GCGGATATGGCGAT'), DNA('GCAGATCTGGCGA-'), DNA('GCGCATATTGCG--')]\n",
    "labels = ['seq1', 'seq2', 'seq3']\n",
    "demo_msa_a = TabularMSA(seqs_a, index = labels)\n",
    "demo_msa_b = TabularMSA(seqs_b, index = labels)\n",
    "print(demo_msa_a)\n",
    "print(demo_msa_b)"
   ]
  },
  {
   "cell_type": "markdown",
   "metadata": {},
   "source": [
    "### Questions\n",
    "In the cells below, complete the following tasks:\n",
    "\n",
    "1.1. (5 marks, max 50 words) The *Enterococcus faecium aphA-3* gene product confers resistance to the antibiotic kanamycin. Using the DNA sequences provided, explain why only isolate c is sensitive (not resistant) to kanamycin despite having a copy of the *aphA-3* gene.\n",
    "\n",
    "Scoring schemes are very important when comparing sequence alignments.\n",
    "\n",
    "The sum of pairs (SP) score considers all pairs of characters at each position and adds the scores across the alignment length. A scoring system must be specified with a score for matches and mismatches. An example scoring system could be:\n",
    "\n",
    ">Match (A|A) = 1\n",
    "\n",
    ">Mismatch (A|T or A|-) = 0\n",
    "\n",
    ">Aligned gaps (-|-) = 0 \n",
    " \n",
    "A higher score indicates a better alignment.\n",
    "\n",
    "1.2. (5 marks, 10 minutes max run-time) Write a python function to calculate the SP score for an MSA. Assume msa is an skbio.alignment.TabularMSA object. Return a single integer. If the TabularMSA object contains 1 or fewer sequences, return None. Assume match, mismatch and aligned_gap are integers.\n",
    "\n",
    "An alternate scoring system is the minimum entropy score. A score for each position in the alignment can be calculated using the formula below. The total score is the sum of all the scores for each position. A completely conserved position in the alignment gives a score of 0. With this scoring system, a lower score indicates a better alignment.\n",
    "\n",
    "$-\\sum _i c_i \\times log_2(\\frac{c_i}{C})$\n",
    "\n",
    "Where $c_i$ is the number of occurrences of character $i$ in the column and $C$ is the number of sequences in the MSA.\n",
    "\n",
    "1.3. (5 marks, 10 minutes max run-time) Write a python function to calculate the minimum entropy score for an MSA. Assume msa is an skbio.alignment.TabularMSA object. Return a single floating-point number. If the TabularMSA object contains 1 or fewer sequences, return None. Treat a gap the same as any other character.\n",
    "\n",
    "1.4. (10 marks, max 50 words) All mismatches are treated equally in SP scoring. The same is not true for minimum entropy scoring. Explain one advantage of this difference for minimum entropy scoring?\n"
   ]
  },
  {
   "cell_type": "markdown",
   "metadata": {},
   "source": [
    "~~ GRADED CELL 1.1 (5 marks) - complete this cell ~~\n",
    "\n",
    "The *Enterococcus faecium aphA-3* gene product confers resistance to the antibiotic kanamycin. Using the DNA sequences provided, explain why only isolate c is sensitive (not resistant) to kanamycin despite having a copy of the *aphA-3* gene. **50 words max**\n",
    "\n",
    "Isolate c has a 2-base indel in the sequence which disrupts the positions of the start and stop codon of the kanamycin\n",
    "resistance protein coding sequence and makes it fail to translate this protein.\n"
   ]
  },
  {
   "cell_type": "code",
   "execution_count": null,
   "metadata": {},
   "outputs": [],
   "source": [
    "# ~~ GRADED CELL 1.2 (5 marks, 10 minutes max run-time) - complete this cell ~~\n",
    "def sp_score(msa, match, mismatch, aligned_gap):\n",
    "    \"\"\"\n",
    "    Calculate the SP score for an MSA. \n",
    "    Assume msa is an skbio.alignment.TabularMSA object. \n",
    "    Return a single integer. \n",
    "    If the TabularMSA object contains 1 or fewer sequences, return None. \n",
    "    Assume match, mismatch and aligned_gap are integers.\n",
    "    \"\"\"\n",
    "    if len(msa) < 2:\n",
    "        return None\n",
    "\n",
    "    score = 0\n",
    "    for position in range(msa.shape.position):\n",
    "        col = msa.iloc[..., position].values\n",
    "        for i, j in enumerate(col):\n",
    "            for k in col[i + 1:]:\n",
    "                if j == b'-' and k == b'-':\n",
    "                    score += aligned_gap\n",
    "                elif j == k:\n",
    "                    score += match\n",
    "                elif j != k:\n",
    "                    score += mismatch\n",
    "    return score"
   ]
  },
  {
   "cell_type": "code",
   "execution_count": null,
   "metadata": {},
   "outputs": [],
   "source": [
    "print(sp_score(demo_msa_a, 1, 0, 0)) # should output 8\n",
    "print(sp_score(demo_msa_b, 1, 0, 0)) # should output 29\n",
    "print(sp_score(msa_aphA3, 1, 0, 0))\n"
   ]
  },
  {
   "cell_type": "code",
   "execution_count": null,
   "metadata": {},
   "outputs": [],
   "source": [
    "# ~~ GRADED CELL 1.3 (5 marks, 10 minutes max run-time) - complete this cell ~~\n",
    "def mes_score(msa):\n",
    "    \"\"\"\n",
    "    Calculate the minimum entropy score for an MSA. \n",
    "    Assume msa is an skbio.alignment.TabularMSA object. \n",
    "    Return a single floating-point number. \n",
    "    If the TabularMSA object contains 1 or fewer sequences, return None. \n",
    "    Treat a gap the same as any other character.\n",
    "    \"\"\"\n",
    "    import math\n",
    "    if len(msa) < 2:\n",
    "        return None\n",
    "\n",
    "    score = 0\n",
    "    for position in range(msa.shape.position):\n",
    "        col = msa.iloc[..., position].values\n",
    "        counter = dict()\n",
    "        for i in col:\n",
    "            counter[i] = counter.get(i, 0) + 1\n",
    "        score -= sum([ci * math.log(ci / len(col), 2) for ci in counter.values()])\n",
    "    return score\n"
   ]
  },
  {
   "cell_type": "code",
   "execution_count": null,
   "metadata": {},
   "outputs": [],
   "source": [
    "# ~~ Test your function in this cell ~~\n",
    "print(mes_score(demo_msa_a)) # should output ~ 5.51\n",
    "print(mes_score(demo_msa_b)) # should output ~ 16.53\n",
    "print(mes_score(msa_aphA3))\n"
   ]
  },
  {
   "cell_type": "markdown",
   "metadata": {},
   "source": [
    "~~ GRADED CELL 1.4 (10 marks) - complete this cell ~~\n",
    "\n",
    "All mismatches are treated equally in SP scoring. The same is not true for minimum entropy scoring. Explain one advantage of this difference for minimum entropy scoring? **50 words max**\n",
    "\n",
    "Minimum entropy emphasizes the conservation of a column, in which a single base mutation won't change much if other positions\n",
    "have good alignment, but in SP scoring this is over-weighted and the relative score decreases as the number of sequences increases.\n"
   ]
  },
  {
   "cell_type": "markdown",
   "metadata": {},
   "source": [
    "## Part 2: RNA-seq\n",
    "\n",
    "### Setup\n",
    "\n",
    "MicroRNAs (miRNAs) are regulatory RNAs that are expressed in many cells but do not code for proteins. Similar to the RNAs that encode functional proteins, the expression levels of miRNAs are regulated by cells. They can changed based on developmental stage, drug treatment and disease.  Researchers can use RNA-seq protocols to examine the expression differences in miRNAs when investigating basic cell function and disease processes. This approach is commonly referred to as miRNA-seq analysis. \n",
    "\n",
    "When designing and analysing a miRNA-seq experiment to examine differential expression of miRNA, there are some special considerations."
   ]
  },
  {
   "cell_type": "markdown",
   "metadata": {},
   "source": [
    "### Questions\n",
    "\n",
    "In the cells below, complete the following tasks:\n",
    "\n",
    "2.1. (10 marks, max 50 words) What would be the desired read length for a miRNA-seq experiment and why? Would single-end or paired-end sequencing be appropriate?\n",
    "\n",
    "2.2. (5 marks, max 50 words) Explain why adapter trimming is particularly useful in miRNA-seq analysis pipelines compared to standard RNA-seq.\n",
    "\n",
    "2.3. (10 marks, 50 words max) Describe two challenges to aligning miRNA-seq readsets compared to aligning standard RNA-seq readsets from coding genes?\n"
   ]
  },
  {
   "cell_type": "markdown",
   "metadata": {},
   "source": [
    "~~ GRADED CELL 2.1 (10 marks) - complete this cell ~~\n",
    "\n",
    "What would be the desired read length for a miRNA-seq experiment and why? Would single-end or paired-end sequencing be appropriate? **50 words max**\n",
    "\n",
    "Length of 50 is desired, because the length of small RNA like miRNA is about 21-25 nucleotides. Single-end sequencing would be appropriate."
   ]
  },
  {
   "cell_type": "markdown",
   "metadata": {},
   "source": [
    "~~ GRADED CELL 2.2 (5 marks) - complete this cell ~~\n",
    "\n",
    "Explain why adapter trimming is particularly useful in miRNA-seq analysis pipelines compared to standard RNA-seq. **50 words max**\n",
    "\n",
    "For miRNA-seq, the read length is usually longer than the sequence length, the adaptor sequence will attach to\n",
    "the end of a read. By using adaptor trimming, we can remove those adaptor sequences and keep only the miRNA sequences in the reads."
   ]
  },
  {
   "cell_type": "markdown",
   "metadata": {},
   "source": [
    "~~ GRADED CELL 2.3 (10 marks) - complete this cell ~~\n",
    "\n",
    "Describe two challenges to aligning miRNA-seq readsets compared to aligning standard RNA-seq readsets from coding genes? **50 words max**\n",
    "\n",
    "* Difficult to find the accurate origin as short reads are more likely to map to multiple regions.\n",
    "* Different miRNA-seq reads still have high similarity, which requires a higher read depth to distinguish a mismatch from a new read."
   ]
  },
  {
   "cell_type": "markdown",
   "metadata": {},
   "source": [
    "## Part 3: Metagenomics\n",
    "\n",
    "### Setup\n",
    "\n",
    "Kraken is a tool used to assign taxonomic labels to short reads. Output from Kraken was used in workshop 8. \n",
    "\n",
    "Kraken is described in the publication below. Please read it before answering the questions.\n",
    "\n",
    ">https://www.ncbi.nlm.nih.gov/pmc/articles/PMC4053813/pdf/gb-2014-15-3-r46.pdf![image.png](attachment:image.png)\n",
    "\n"
   ]
  },
  {
   "cell_type": "markdown",
   "metadata": {},
   "source": [
    "### Questions\n",
    "\n",
    "In the cells below, complete the following tasks:\n",
    "\n",
    "3.1. (20 marks, max 200 words). In your own words, describe the method used by Kraken to assign a taxonomic classification to each read in a short-read readset. Include a description of the database and the classification tree. Include each of the main steps of the algorithm.\n",
    "\n",
    "3.2. (5 marks, max 50 words) A researcher used Kraken to assign taxonomic labels to a readset from throat swabs of children with throat infections. The researcher finds that very few of the reads have been assigned a label. Explain the most likely reason for this. Assume the researcher used the Kraken-GB database and that no reads were misclassified.\n",
    "\n",
    "3.3. (5 marks, max 50 words) What is the main limitation to using Kraken to estimate the microbial diversity of a previously unsampled environment?\n",
    "\n",
    "3.4. (10 marks, max 100 words) Metagenomic readsets can be very large. Explain how Kraken achieves a fast run-time while preserving classification accuracy?\n",
    "\n",
    "3.5 (10 marks, max 100 words) Describe a sequencing strategy and data analysis workflow including Kraken that could be used to determine whether a human patient is infected with SARS-CoV-2. Please state which tools are used and for what purposes (no need for version numbers or commands). Include some form of quality control. What sequences would be included in the Kraken database used for this application?\n"
   ]
  },
  {
   "cell_type": "markdown",
   "metadata": {},
   "source": [
    "~~ GRADED CELL 3.1 (20 marks) - complete this cell ~~\n",
    "\n",
    "In your own words, describe the method used by Kraken to assign a taxonomic classification to each read in a short-read readset. Include a description of the database and the classification tree. Include each of the main steps of the algorithm. **200 words max**\n",
    "\n",
    "* Build Kraken database\n",
    "    * Select a library which contains reference sequences, such as RefSeq from NCBI.\n",
    "    * Create a database that contains every distict 31-mer in the library using JellyFish k-mer counter.\n",
    "    * For each of the k-mer in the database, its LCA(least common ancestor) value is stored, which is calculated by using the taxonomy information of its original sequence.\n",
    "* Perform a k-mer query\n",
    "    * Similar k-mers are stored consecutively like a group in the database, and they have the same \"minimizer\" as the index, which is a short sequence produced by the k-mer sequence.\n",
    "    * To query a k-mer for its LCA, the database locates its group by using its minimizer, then performs binary search within this group.\n",
    "* Assign a taxonomic classification to a read\n",
    "    * Map all the k-mers of this read to their LCA taxa by using the database above, these LCA taxa and taxonomy tree form a classification tree, in which each node is weighted with the number of k-mers mapped to the taxon of that node.\n",
    "    * Scores are calculated by sum up node weights of the root-to-leaf path, finally the read is labelled with the taxon of the leaf node of the path with the maximum score."
   ]
  },
  {
   "cell_type": "markdown",
   "metadata": {},
   "source": [
    "~~ GRADED CELL 3.2 (5 marks) - complete this cell ~~\n",
    "\n",
    "A researcher used Kraken to assign taxonomic labels to a readset from throat swabs of children with throat infections. The researcher finds that very few of the reads have been assigned a label. Explain the most likely reason for this. Assume the researcher used the Kraken-GB database and that no reads were misclassified. **50 words max**\n",
    "\n",
    "The sample readset contains sequences from bacteria genome that are not in the Kraken-GB database."
   ]
  },
  {
   "cell_type": "markdown",
   "metadata": {},
   "source": [
    "~~ GRADED CELL 3.3 (5 marks) - complete this cell ~~\n",
    "\n",
    "What is the main limitation to using Kraken to estimate the microbial diversity of a previously unsampled environment? **50 words max**\n",
    "\n",
    "Difficult to select a database or library that are promised to contain all the genomes that will present in the environment."
   ]
  },
  {
   "cell_type": "markdown",
   "metadata": {},
   "source": [
    "~~ GRADED CELL 3.4 (10 marks) - complete this cell ~~\n",
    "\n",
    "Metagenomic readsets can be very large. Explain how Kraken achieves a fast run-time while preserving classification accuracy? **100 words max**\n",
    "\n",
    "* In Kraken database, similar k-mers with the same minimizer are stored together in a range, the search result range of a new query will be put in CPU cache for subsequent queries, so that subsequent queries are expedited when they are in the same search range.\n",
    "* Using XOR operation as the algorithm to compare M-mers, in order to create more even minimizer distribution.\n",
    "* Before calculating new minimizer for a new query, search the result in previous search range first to prevent duplicated calculation."
   ]
  },
  {
   "cell_type": "markdown",
   "metadata": {},
   "source": [
    "~~ GRADED CELL 3.5 (10 marks) - complete this cell ~~\n",
    "\n",
    "Describe a sequencing strategy and data analysis workflow including Kraken that could be used to determine whether a human patient is infected with SARS-CoV-2. Please state which tools are used and for what purposes (no need for version numbers or commands). Include some form of quality control. What sequences would be included in the Kraken database used for this application? **100 words max**\n",
    "\n",
    "* Extract DNA sample from the patient\n",
    "* Do RNA reverse transcription with the sample to produce cDNA\n",
    "* Do PCR amplification\n",
    "* For the quality control, use adaptor trimming to remove adaptor sequences, use filters to remove extremely short reads. \n",
    "* Use NGS to produce short read readsets\n",
    "* Choose a library containing covid-19 genome to build a Kraken database\n",
    "* Perform Kraken taxonomy classification to this readset, and see whether there are sequences labelled with covid-19."
   ]
  }
 ],
 "metadata": {
  "kernelspec": {
   "display_name": "Python 3",
   "language": "python",
   "name": "python3"
  },
  "language_info": {
   "codemirror_mode": {
    "name": "ipython",
    "version": 3
   },
   "file_extension": ".py",
   "mimetype": "text/x-python",
   "name": "python",
   "nbconvert_exporter": "python",
   "pygments_lexer": "ipython3",
   "version": "3.7.7"
  }
 },
 "nbformat": 4,
 "nbformat_minor": 4
}
