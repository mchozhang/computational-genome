{
 "cells": [
  {
   "cell_type": "markdown",
   "metadata": {},
   "source": [
    "# COMP90016 - Assignment 4\n",
    "Version 1. Last edited 9/5/2020.\n"
   ]
  },
  {
   "cell_type": "markdown",
   "metadata": {},
   "source": [
    "## Sample solutions\n",
    "\n",
    "Well done on completing assignment 4. We appreciate your efforts in completing all of the assignments for this course under difficult circumstances.\n",
    "\n",
    "Remember that the content from these assignments can be tested on the final exam.\n",
    "\n",
    "Here are some of the most common mistakes made on assignment 4.\n",
    "- If there are multiple parts to a question, you must address all of them.\n",
    "- Similarly, you must address all of the instructions in the code questions. Even if your code works for the demonstration cases, it may not work for all of the test cases we use.\n",
    "- If a question asks for multiple, separate points, make sure they are different from each other and not the same concept worded differently.\n",
    "- Consider the order in which information is presented in longer answers.\n",
    "- Some students did not include the tools used for their pipeline steps.\n",
    "- Some included tools that were unnecessary, or their purpose was unclear.\n",
    "- Others did not include any QC.\n",
    "\n",
    "\n",
    "The sample solutions below provide a guide for students to compare to their own answers. These solutions are not the most efficient or succinct; they are written to be simple and easy to understand."
   ]
  },
  {
   "cell_type": "markdown",
   "metadata": {},
   "source": [
    "## Semester 1, 2020"
   ]
  },
  {
   "cell_type": "markdown",
   "metadata": {},
   "source": [
    "\n",
    "This assignment should be completed by each student individually. Make sure you read this entire document, and ask for help if anything is not clear. Any changes or clarifications to this document will be announced via the LMS.\n",
    "\n",
    "Please make sure you are aware of the University's rules on academic honesty and plagiarism, which are very strict: https://academichonesty.unimelb.edu.au/\n",
    "\n",
    "Make sure you do not copy any code either from other students or from the internet. This is considered plagiarism. It is generally a good idea to avoid looking at any solutions as you may find it surprisingly difficult to generate your own solution to the problem once you have seen somebody else's.\n",
    "\n",
    "Your completed notebook file containing all your answers will be turned in via LMS. Please also submit an HTML file with the output cleared.\n",
    "\n",
    "To complete the assignment, you will need to finish the tasks in this notebook. There are multiple tasks that are connected in a logical order.\n",
    "\n",
    "The tasks are a combination of writing your own code using library implementations, utilising bioinformatics tools and interpreting the results in short answer format.\n",
    "\n",
    "In some cases, we have provided test input and test output that you can use to try out your solutions. These tests are just samples and are **not** exhaustive - they may warn you if you've made a mistake, but they are not guaranteed to. It's up to you to decide whether your code is correct.\n",
    "\n",
    "## Marking\n",
    "\n",
    "Cells that must be completed to receive marks are clearly labelled. Some cells are code cells, in which you must complete the code to solve a problem. Others are markdown cells, in which you must write your answers to short-answer questions. Please only add to graded cells, **do not remove or modify any text in graded cells** unless specified otherwise (please don't remove text like this: # ~~ GRADED CELL (1 mark) - complete this cell ~~ ).\n",
    "\n",
    ">Word limits, where stated, will be strictly enforced! Answers exceeding the limit **will not be marked**.\n",
    "\n",
    ">Run-time limits will be imposed for each coding question. Your code will be tested on the COMP90016 server, so make sure you test your run-times there. The run-time of a code cell can be calculated by including `%time` at the top of your cell. Cells exceeding the run-time limit **will not be marked**.\n",
    "\n",
    "No marks are allocated to commenting in your code. We do however, encourage efficient and well commented code.\n",
    "\n",
    "The total marks for the assignment add up to 100, and it will be worth 10% of your overall subject grade.\n",
    "\n",
    "Part 1: 25 marks\n",
    "\n",
    "Part 2: 25 marks\n",
    "\n",
    "Part 3: 50 marks\n",
    "\n",
    "## Overview\n",
    "\n",
    "In this assignment, you will answer questions about multiple sequence alignment, RNA-seq and metagenomics. \n",
    "\n",
    "You will use the `skbio` library to write functions related to multiple sequence alignment. You may want to refer to sections of the `skbio` documentation for additional help (http://scikit-bio.org/docs/0.5.2). Additional to `skbio` and standard Python 3 functions and methods, you may also use any other libraries installed on the COMP90016 server including collections, numpy, pandas, math and itertools. These can be found using help ('modules')."
   ]
  },
  {
   "cell_type": "markdown",
   "metadata": {},
   "source": [
    "## Part 1: Multiple Sequence Alignment\n",
    "### Setup"
   ]
  },
  {
   "cell_type": "markdown",
   "metadata": {},
   "source": [
    "We begin by importing the relevant classes from the `skbio` library. We will be using the skbio.alignment.TabularMSA class to access multiple sequence alignment (MSA) information. For more information about skbio.alignment.TabularMSA objects and how to use them, follow the link below.\n",
    "> http://scikit-bio.org/docs/0.5.1/generated/skbio.alignment.TabularMSA.html\n",
    "\n",
    "We will be using an MSA of the *aphA-3* gene from four different isolates of the bacterium *Enterococcus faecium*.\n",
    "\n",
    "We will import this information from a FASTA file that can be downloaded from the LMS. Place this file in the same directory as this notebook. **DO NOT** rename the file. "
   ]
  },
  {
   "cell_type": "code",
   "execution_count": null,
   "metadata": {},
   "outputs": [],
   "source": [
    "# Import the necessary classes from skbio.\n",
    "from skbio import DNA, TabularMSA"
   ]
  },
  {
   "cell_type": "code",
   "execution_count": null,
   "metadata": {
    "scrolled": true
   },
   "outputs": [],
   "source": [
    "# Create an skbio.alignment.TabularMSA object from the FASTA file.\n",
    "msa_aphA3 = TabularMSA.read(\"comp90016_assignment_4_aln.fasta\", constructor = DNA)\n",
    "# Give each sequence an index name.\n",
    "msa_aphA3.reassign_index(mapping={0: 'isolate_a', 1: 'isolate_b', 2: 'isolate_c', 3: 'isolate_d'})\n",
    "# Get the dimensions of the data (number and length of sequences).\n",
    "msa_aphA3.shape\n"
   ]
  },
  {
   "cell_type": "code",
   "execution_count": null,
   "metadata": {},
   "outputs": [],
   "source": [
    "# Create demo MSAs for test input.\n",
    "seqs_a = [DNA('ACGT'), DNA('AGGT'), DNA('AC-T')]\n",
    "seqs_b = [DNA('GCGGATATGGCGAT'), DNA('GCAGATCTGGCGA-'), DNA('GCGCATATTGCG--')]\n",
    "labels = ['seq1', 'seq2', 'seq3']\n",
    "demo_msa_a = TabularMSA(seqs_a, index = labels)\n",
    "demo_msa_b = TabularMSA(seqs_b, index = labels)\n",
    "print(demo_msa_a)\n",
    "print(demo_msa_b)"
   ]
  },
  {
   "cell_type": "markdown",
   "metadata": {},
   "source": [
    "### Questions\n",
    "In the cells below, complete the following tasks:\n",
    "\n",
    "1.1. (5 marks, max 50 words) The *Enterococcus faecium aphA-3* gene product confers resistance to the antibiotic kanamycin. Using the DNA sequences provided, explain why only isolate c is sensitive (not resistant) to kanamycin despite having a copy of the *aphA-3* gene.\n",
    "\n",
    "Scoring schemes are very important when comparing sequence alignments.\n",
    "\n",
    "The sum of pairs (SP) score considers all pairs of characters at each position and adds the scores across the alignment length. A scoring system must be specified with a score for matches and mismatches. An example scoring system could be:\n",
    "\n",
    ">Match (A|A) = 1\n",
    "\n",
    ">Mismatch (A|T or A|-) = 0\n",
    "\n",
    ">Aligned gaps (-|-) = 0 \n",
    " \n",
    "A higher score indicates a better alignment.\n",
    "\n",
    "1.2. (5 marks, 10 minutes max run-time) Write a python function to calculate the SP score for an MSA. Assume msa is an skbio.alignment.TabularMSA object. Return a single integer. If the TabularMSA object contains 1 or fewer sequences, return None. Assume match, mismatch and aligned_gap are integers.\n",
    "\n",
    "An alternate scoring system is the minimum entropy score. A score for each position in the alignment can be calculated using the formula below. The total score is the sum of all the scores for each position. A completely conserved position in the alignment gives a score of 0. With this scoring system, a lower score indicates a better alignment.\n",
    "\n",
    "$-\\sum _i c_i \\times log_2(\\frac{c_i}{C})$\n",
    "\n",
    "Where $c_i$ is the number of occurrences of character $i$ in the column and $C$ is the number of sequences in the MSA.\n",
    "\n",
    "1.3. (5 marks, 10 minutes max run-time) Write a python function to calculate the minimum entropy score for an MSA. Assume msa is an skbio.alignment.TabularMSA object. Return a single floating-point number. If the TabularMSA object contains 1 or fewer sequences, return None. Treat a gap the same as any other character.\n",
    "\n",
    "1.4. (10 marks, max 50 words) All mismatches are treated equally in SP scoring. The same is not true for minimum entropy scoring. Explain one advantage of this difference for minimum entropy scoring?\n"
   ]
  },
  {
   "cell_type": "markdown",
   "metadata": {},
   "source": [
    "~~ GRADED CELL 1.1 (5 marks) - complete this cell ~~\n",
    "\n",
    "The *Enterococcus faecium aphA-3* gene product confers resistance to the antibiotic kanamycin. Using the DNA sequences provided, explain why only isolate c is sensitive (not resistant) to kanamycin despite having a copy of the *aphA-3* gene. **50 words max**\n",
    "\n",
    "Isolate c has a gap of two bases in the alignment. This causes a frame shift relative to the other isolates and introduces a premature termination codon. This likely leads to a loss of function and a loss of kanamycin resistance."
   ]
  },
  {
   "cell_type": "code",
   "execution_count": null,
   "metadata": {},
   "outputs": [],
   "source": [
    "# ~~ GRADED CELL 1.2 (5 marks, 10 minutes max run-time) - complete this cell ~~\n",
    "from itertools import combinations\n",
    "def sp_score(msa, match, mismatch, aligned_gap):\n",
    "    \"\"\"\n",
    "    Calculate the SP score for an MSA. \n",
    "    Assume msa is an skbio.alignment.TabularMSA object. \n",
    "    Return a single integer. \n",
    "    If the TabularMSA object contains 1 or fewer sequences, return None. \n",
    "    Assume match, mismatch and aligned_gap are integers.\n",
    "    \"\"\"\n",
    "    # Initialise a variable to store the score.\n",
    "    score = 0\n",
    "    \n",
    "    # If the TabularMSA object contains 1 or fewer sequences, return None.\n",
    "    if len(msa) <= 1:\n",
    "        return None\n",
    "    \n",
    "    # For each pair of characters at each alignment position, update the score\n",
    "    # according to the scoring parameters.\n",
    "    for i in range(msa.shape[1]):\n",
    "        pairs = list(combinations(str(msa.iloc(axis='position')[i]), 2))\n",
    "        for pair in pairs:\n",
    "            if pair == ('-', '-'):\n",
    "                score += aligned_gap\n",
    "            elif pair[0] == pair[1]:\n",
    "                score += match\n",
    "            else:\n",
    "                score += mismatch\n",
    "    return score"
   ]
  },
  {
   "cell_type": "code",
   "execution_count": null,
   "metadata": {},
   "outputs": [],
   "source": [
    "# ~~ Test your function in this cell ~~\n",
    "print(sp_score(demo_msa_a, 1, 0, 0)) # should output 8\n",
    "print(sp_score(demo_msa_b, 1, 0, 0)) # should output 29\n",
    "\n",
    "print(sp_score(msa_aphA3, 1, 0, 0))\n"
   ]
  },
  {
   "cell_type": "code",
   "execution_count": null,
   "metadata": {},
   "outputs": [],
   "source": [
    "# ~~ GRADED CELL 1.3 (5 marks, 10 minutes max run-time) - complete this cell ~~\n",
    "import math\n",
    "def mes_score(msa):\n",
    "    \"\"\"\n",
    "    Calculate the minimum entropy score for an MSA. \n",
    "    Assume msa is an skbio.alignment.TabularMSA object. \n",
    "    Return a single floating-point number. \n",
    "    If the TabularMSA object contains 1 or fewer sequences, return None. \n",
    "    Treat a gap the same as any other character.\n",
    "    \"\"\"\n",
    "    # Initialise a variable to store the score.\n",
    "    score = 0\n",
    "    \n",
    "    # If the TabularMSA object contains 1 or fewer sequences, return None.\n",
    "    if len(msa) <= 1:\n",
    "        return None\n",
    "    \n",
    "    # For each alignment position, calculate the column score and add it to the total score.\n",
    "    for i in range(msa.shape[1]):\n",
    "        split = list(str(msa.iloc(axis='position')[i]))\n",
    "        column_score = 0\n",
    "        for j in set(split):\n",
    "            c = split.count(j)\n",
    "            column_score += c*math.log2(c/len(split))\n",
    "        score -= column_score\n",
    "    return score"
   ]
  },
  {
   "cell_type": "code",
   "execution_count": null,
   "metadata": {},
   "outputs": [],
   "source": [
    "# ~~ Test your function in this cell ~~\n",
    "print(mes_score(demo_msa_a)) # should output ~ 5.51\n",
    "print(mes_score(demo_msa_b)) # should output ~ 16.53\n",
    "\n",
    "print(mes_score(msa_aphA3))\n"
   ]
  },
  {
   "cell_type": "markdown",
   "metadata": {},
   "source": [
    "~~ GRADED CELL 1.4 (10 marks) - complete this cell ~~\n",
    "\n",
    "All mismatches are treated equally in SP scoring. The same is not true for minimum entropy scoring. Explain one advantage of this difference for minimum entropy scoring? **50 words max**\n",
    "\n",
    "Unlike SP scores, minimum entropy scores can differ between alignments with the same number of mismatches; it takes into account the distribution of the mismatches across the alignment columns. This allows for a more biologically relevant outcome when conservation differs across columns in an alignment."
   ]
  },
  {
   "cell_type": "markdown",
   "metadata": {},
   "source": [
    "## Part 2: RNA-seq\n",
    "\n",
    "### Setup\n",
    "\n",
    "MicroRNAs (miRNAs) are regulatory RNAs that are expressed in many cells but do not code for proteins. Similar to the RNAs that encode functional proteins, the expression levels of miRNAs are regulated by cells. They can changed based on developmental stage, drug treatment and disease.  Researchers can use RNA-seq protocols to examine the expression differences in miRNAs when investigating basic cell function and disease processes. This approach is commonly referred to as miRNA-seq analysis. \n",
    "\n",
    "When designing and analysing a miRNA-seq experiment to examine differential expression of miRNA, there are some special considerations."
   ]
  },
  {
   "cell_type": "markdown",
   "metadata": {},
   "source": [
    "### Questions\n",
    "\n",
    "In the cells below, complete the following tasks:\n",
    "\n",
    "2.1. (10 marks, max 50 words) What would be the desired read length for a miRNA-seq experiment and why? Would single-end or paired-end sequencing be appropriate?\n",
    "\n",
    "2.2. (5 marks, max 50 words) Explain why adapter trimming is particularly useful in miRNA-seq analysis pipelines compared to standard RNA-seq.\n",
    "\n",
    "2.3. (10 marks, 50 words max) Describe two challenges to aligning miRNA-seq readsets compared to aligning standard RNA-seq readsets from coding genes?\n"
   ]
  },
  {
   "cell_type": "markdown",
   "metadata": {},
   "source": [
    "~~ GRADED CELL 2.1 (10 marks) - complete this cell ~~\n",
    "\n",
    "What would be the desired read length for a miRNA-seq experiment and why? Would single-end or paired-end sequencing be appropriate? **50 words max**\n",
    "\n",
    "A read length of 50 bases would ensure the whole miRNA is captured. Single-end sequencing would be appropriate as paired-end reads do not provide additional information for such short sequences."
   ]
  },
  {
   "cell_type": "markdown",
   "metadata": {},
   "source": [
    "~~ GRADED CELL 2.2 (5 marks) - complete this cell ~~\n",
    "\n",
    "Explain why adapter trimming is particularly useful in miRNA-seq analysis pipelines compared to standard RNA-seq. **50 words max**\n",
    "\n",
    "Adapter sequences are often present in miRNA-seq reads due to the short lengths of miRNAs. These must be removed to avoid misalignments."
   ]
  },
  {
   "cell_type": "markdown",
   "metadata": {},
   "source": [
    "~~ GRADED CELL 2.3 (10 marks) - complete this cell ~~\n",
    "\n",
    "Describe two challenges to aligning miRNA-seq readsets compared to aligning standard RNA-seq readsets from coding genes? **50 words max**\n",
    "\n",
    "The short lengths of miRNAs mean they may align to multiple regions of the reference genome. RNA editing can cause differences between the mature miRNA sequence and the genomic sequence, leading to additional alignment challenges."
   ]
  },
  {
   "cell_type": "markdown",
   "metadata": {},
   "source": [
    "## Part 3: Metagenomics\n",
    "\n",
    "### Setup\n",
    "\n",
    "Kraken is a tool used to assign taxonomic labels to short reads. Output from Kraken was used in workshop 8. \n",
    "\n",
    "Kraken is described in the publication below. Please read it before answering the questions.\n",
    "\n",
    ">https://www.ncbi.nlm.nih.gov/pmc/articles/PMC4053813/pdf/gb-2014-15-3-r46.pdf![image.png](attachment:image.png)\n",
    "\n"
   ]
  },
  {
   "cell_type": "markdown",
   "metadata": {},
   "source": [
    "### Questions\n",
    "\n",
    "In the cells below, complete the following tasks:\n",
    "\n",
    "3.1. (20 marks, max 150 words). In your own words, describe the method used by Kraken to assign a taxonomic classification to each read in a short-read readset. Include a description of the database and the classification tree. Include each of the main steps of the algorithm.\n",
    "\n",
    "3.2. (5 marks, max 50 words) A researcher used Kraken to assign taxonomic labels to a readset from throat swabs of children with throat infections. The researcher finds that very few of the reads have been assigned a label. Explain the most likely reason for this. Assume the researcher used the Kraken-GB database and that no reads were misclassified.\n",
    "\n",
    "3.3. (5 marks, max 50 words) What is the main limitation to using Kraken to estimate the microbial diversity of a previously unsampled environment?\n",
    "\n",
    "3.4. (10 marks, max 100 words) Metagenomic readsets can be very large. Explain how Kraken achieves a fast run-time while preserving classification accuracy?\n",
    "\n",
    "3.5 (10 marks, max 100 words) Describe a sequencing strategy and data analysis workflow including Kraken that could be used to determine whether a human patient is infected with SARS-CoV-2. Please state which tools are used and for what purposes (no need for version numbers or commands). Include some form of quality control. What sequences would be included in the Kraken database used for this application?\n"
   ]
  },
  {
   "cell_type": "markdown",
   "metadata": {},
   "source": [
    "~~ GRADED CELL 3.1 (20 marks) - complete this cell ~~\n",
    "\n",
    "In your own words, describe the method used by Kraken to assign a taxonomic classification to each read in a short-read readset. Include a description of the database and the classification tree. Include each of the main steps of the algorithm. **200 words max**\n",
    "\n",
    "A Kraken database consists of k-mers from a library of genome sequences with known taxonomy and the lowest common ancestor (LCA) associated with each k-mer based of a phylogenetic tree. The same value of k is used to split a query read into k-mers. Exact matches between the k-mer and the database are identified.\n",
    "\n",
    "The LCA of matching k-mers and their ancestors form the classification tree. The nodes of the tree represent taxa and are weighted by the number of k-mers that mapped to the associated taxon. The root-to-leaf path with the highest combined weight is the classification path. The taxon associated with the leaf of this path is the final classification for the read. If there are no database matches, the read is left unclassified.\n"
   ]
  },
  {
   "cell_type": "markdown",
   "metadata": {},
   "source": [
    "~~ GRADED CELL 3.2 (5 marks) - complete this cell ~~\n",
    "\n",
    "A researcher used Kraken to assign taxonomic labels to a readset from throat swabs of children with throat infections. The researcher finds that very few of the reads have been assigned a label. Explain the most likely reason for this. Assume the researcher used the Kraken-GB database and that no reads were misclassified. **50 words max**\n",
    "\n",
    "The sequences would be mostly of human origin. There are no human sequences in Kraken-GB."
   ]
  },
  {
   "cell_type": "markdown",
   "metadata": {},
   "source": [
    "~~ GRADED CELL 3.3 (5 marks) - complete this cell ~~\n",
    "\n",
    "What is the main limitation to using Kraken to estimate the microbial diversity of a previously unsampled environment? **50 words max**\n",
    "\n",
    "A previously unsampled environment may contain organisms whose genomes are not represented in the chosen database. There may even be novel organisms. These sequences would be classified at a higher taxonomic level, or not at all."
   ]
  },
  {
   "cell_type": "markdown",
   "metadata": {},
   "source": [
    "~~ GRADED CELL 3.4 (10 marks) - complete this cell ~~\n",
    "\n",
    "Metagenomic readsets can be very large. Explain how Kraken achieves a fast run-time while preserving classification accuracy? **100 words max**\n",
    "\n",
    "The use of exact k-mer matches rather than inexact matches with whole reads allows Kraken to classify reads more quickly. High classification accuracy is achieved by taking advantage of the many diverse genomes available in public sequence repositories."
   ]
  },
  {
   "cell_type": "markdown",
   "metadata": {},
   "source": [
    "~~ GRADED CELL 3.5 (10 marks) - complete this cell ~~\n",
    "\n",
    "Describe a sequencing strategy and data analysis workflow including Kraken that could be used to determine whether a human patient is infected with SARS-CoV-2. Please state which tools are used and for what purposes (no need for version numbers or commands). Include some form of quality control. What sequences would be included in the Kraken database used for this application? **100 words max**\n",
    "\n",
    "Take a nasopharyngeal swab from a patient, and sequence the sample with an Illumina sequencing platform after reverse transcription of viral RNA. Verify the quality of the reads with FastQC and trim adapters with trimmomatic. Construct a Kraken database with genome sequences from viruses known to infect humans including SARS-CoV-2. The human genome should also be included. A positive result is given if the percentage of reads classified to SARS-CoV-2 is greater than a certain threshold. This threshold can be based on levels from known positive and negative cases using the same protocol as above."
   ]
  }
 ],
 "metadata": {
  "kernelspec": {
   "display_name": "Python 3",
   "language": "python",
   "name": "python3"
  },
  "language_info": {
   "codemirror_mode": {
    "name": "ipython",
    "version": 3
   },
   "file_extension": ".py",
   "mimetype": "text/x-python",
   "name": "python",
   "nbconvert_exporter": "python",
   "pygments_lexer": "ipython3",
   "version": "3.7.7"
  }
 },
 "nbformat": 4,
 "nbformat_minor": 4
}
