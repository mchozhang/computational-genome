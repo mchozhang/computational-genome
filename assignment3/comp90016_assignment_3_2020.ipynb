{
 "cells": [
  {
   "cell_type": "markdown",
   "metadata": {},
   "source": [
    "# COMP90016 - Assignment 3\n",
    "\n",
    "## Semester 1, 2020"
   ]
  },
  {
   "cell_type": "markdown",
   "metadata": {},
   "source": [
    "Version 2. Last edited 27/4/2020."
   ]
  },
  {
   "cell_type": "markdown",
   "metadata": {},
   "source": [
    "\n",
    "This assignment should be completed by each student individually. Make sure you read this entire document, and ask for help if anything is not clear. Any changes or clarifications to this document will be announced via the LMS.\n",
    "\n",
    "Please make sure you are aware of the University's rules on academic honesty and plagiarism, which are very strict: https://academichonesty.unimelb.edu.au/\n",
    "\n",
    "Make sure you do not copy any code either from other students or from the internet. This is considered plagiarism. It is generally a good idea to avoid looking at any solutions as you may find it surprisingly difficult to generate your own solution to the problem once you have seen somebody else's.\n",
    "\n",
    "Your completed notebook file containing all your answers will be turned in via LMS. Please also submit an HTML file with the output cleared.\n",
    "\n",
    "## Overview\n",
    "\n",
    "To complete the assignment you will need to finish the tasks in this notebook. There are multiple tasks that are connected in a logical order.\n",
    "\n",
    "The tasks are a combination of writing your own code using library implementations, utilising bioinformatics tools and interpreting the results in short answer format.\n",
    "\n",
    "In some cases, we have provided test input and test output that you can use to try out your solutions. These tests are just samples and are **not** exhaustive - they may warn you if you've made a mistake, but they are not guaranteed to. It's up to you to decide whether your code is correct.\n",
    "\n",
    "## Marking\n",
    "\n",
    "Cells that must be completed to receive marks are clearly labeled. Some cells are code cells, in which you must complete the code to solve a problem. Others are markdown cells, in which you must write your answers to short-answer questions. Please only add to graded cells, **do not remove or modify any text in graded cells** unless specified otherwise (please don't remove text like this: # ~~ GRADED CELL (1 mark) - complete this cell ~~ ).\n",
    "\n",
    ">Word limits, where stated, will be strictly enforced! Answers exceeding the limit **will not be marked**.\n",
    "\n",
    ">Run-time limits will be imposed for each coding question. Your code will be tested on the COMP90016 server, so make sure you test your run-times there. The run-time of a code cell can be calculated by including `%time` at the top of your cell. Cells exceeding the run-time limit **will not be marked**.\n",
    "\n",
    "No marks are allocated to commenting in your your code. We do however, encourage efficient and well commented code.\n",
    "\n",
    "Your code will be tested on the files provided, as well as additional test cases. Your code must work on any correctly formatted VCF file.\n",
    "\n",
    "The total marks for the assignment add up to 100, and it will be worth 10% of your overall subject grade.\n",
    "\n",
    "Part 1: 55 marks\n",
    "\n",
    "Part 2: 45 marks\n",
    "\n",
    "## Overview\n",
    "\n",
    "In this assignment, you will use functions in the `pysam` library to explore VCF files. You may want to refer to sections of the `pysam` documentation below for additional help \n",
    "\n",
    ">https://readthedocs.org/projects/pysam/downloads/pdf/latest/\n",
    "\n",
    "Additional to `pysam` and standard Python 3 functions and methods, you may also use any other libraries installed on the COMP90016 server including collections, numpy, pandas and skbio. These can be found using help ('modules').\n",
    "\n",
    "You will also be asked to consider sources of sequencing data and other bioinformatics databases.\n",
    "\n",
    "`Pysam` is already installed on the COMP90016 server. It can be installed on your (Mac or Linux) personal device by following the instructions here\n",
    "> https://pysam.readthedocs.io/en/latest/installation.html"
   ]
  },
  {
   "cell_type": "markdown",
   "metadata": {},
   "source": [
    "## VCF Files Part 1\n",
    "### Setup"
   ]
  },
  {
   "cell_type": "markdown",
   "metadata": {},
   "source": [
    "We begin by importing the `VariantFile` class from the `pysam` library. The VariantFile object (a generator object) can be used to iterate through the variants in the file. Read https://realpython.com/introduction-to-python-generators/ to better understand generators and iterators in Python (this is not necessary to complete the assignment).\n",
    "\n",
    "The VCF files you will be using can be downloaded from the LMS. Download the files and place them in the same folder as this notebook. **DO NOT** rename the files. "
   ]
  },
  {
   "cell_type": "code",
   "execution_count": null,
   "metadata": {},
   "outputs": [],
   "source": [
    "# Import the VariantFile function.\n",
    "from pysam import VariantFile"
   ]
  },
  {
   "cell_type": "code",
   "execution_count": null,
   "metadata": {
    "scrolled": true
   },
   "outputs": [],
   "source": [
    "# Read in the VCF files to produce VariantFile objects\n",
    "demo_vcf_a = VariantFile(\"comp90016_assignment_3_demo_a.vcf\")\n",
    "demo_vcf_b = VariantFile(\"comp90016_assignment_3_demo_b.vcf\")\n",
    "comp90016_vcf = VariantFile(\"comp90016_assignment_3.vcf\")\n",
    "comp90016_vcf"
   ]
  },
  {
   "cell_type": "markdown",
   "metadata": {},
   "source": [
    "VariantFile objects allow us to access the data within a VCF file. The code cells below show you how to access some of the most important information. You may also want to read this guide to working with VCF files.\n",
    ">https://pysam.readthedocs.io/en/latest/usage.html#working-with-vcf-bcf-formatted-files"
   ]
  },
  {
   "cell_type": "code",
   "execution_count": null,
   "metadata": {},
   "outputs": [],
   "source": [
    "# The VCF header\n",
    "# print(comp90016_vcf.header)"
   ]
  },
  {
   "cell_type": "code",
   "execution_count": null,
   "metadata": {},
   "outputs": [],
   "source": [
    "# Some important information for each variant\n",
    "for variant in comp90016_vcf.fetch():\n",
    "    print(variant) # whole VCF line\n",
    "    print(\"contig:\", variant.contig) # contig the variant is aligned to\n",
    "    print(\"pos:\", variant.pos) # position on the contig\n",
    "    print(\"ref:\", variant.ref) # reference allele\n",
    "    print(\"alt:\", variant.alts) # alternative alleles (may be more than one)\n",
    "    print(\"id:\", variant.id) # variant ID (may not be present in some VCF files)\n",
    "    print(\"qual:\", variant.qual) # variant quality score"
   ]
  },
  {
   "cell_type": "markdown",
   "metadata": {},
   "source": [
    "### Questions\n",
    "In the cells below, complete the following tasks:\n",
    "\n",
    "Examine the header of the comp90016_assignment_3.vcf file.\n",
    "\n",
    "1.1. (5 marks, 50 words max)  What reference genome was used for the variant calling (full species name and version)?\n",
    "\n",
    "1.2. (5 marks, 50 words max) Which variant-calling tool was used to produce the comp90016_assignment_3.vcf file?\n",
    "\n",
    "1.3. (10 marks, 50 words max) Examine the contigs of the reference genome (available in the header). Some are labelled \"chrUn\". Explain what this means. Why are they included in the reference genome?\n",
    "\n",
    "The  four standard DNA bases can be divided into purines (A, G) and pyrimidines (C,T). A transition is a single base change from a purine to a purine, or from a pyrimidine to a pyrimidine. A transversion is a single base change from a purine to a pyrimidine or from a pyrimidine to a purine. The transition/transversion (ti/tv) ratio is the ratio of the number of transitions to the number of transversions.\n",
    "\n",
    "1.4. (10 marks, 10 minutes max run-time) Write a python function to calculate the ti/tv for a set of SNVs in a VCF file. Disregard all other variant types. Assume the input is a pysam VariantFile object. Return a single floating-point number. If there are no transversion SNVs, return None.\n",
    "\n",
    "1.5. (10 marks, 50 words max) Explain why the ti/tv ratio is typically higher in protein-coding regions. Hint: How does this relate to the genetic code?\n",
    "\n",
    "1.6. (10 marks, 50 words max) When working on a variant calling project, a bioinformatician might use files with the extensions vcf.gz or vcf.tbi. Explain the contents of these files and how  they relate to .vcf files.\n",
    "\n",
    "1.7. (5 marks, 50 words max) Explain how .gz and .tbi files help bioinformaticians work with \"big\" genomics data."
   ]
  },
  {
   "cell_type": "markdown",
   "metadata": {},
   "source": [
    "~~ GRADED CELL 1.1 (5 marks) - complete this cell ~~\n",
    "\n",
    "Examine the header of the comp90016_assignment_3.vcf file.\n",
    "\n",
    "What reference genome was used for the variant calling (full species name and version)? **50 words max**\n",
    "\n",
    "Homo sapiens(human) genome, GRCh38(hp38)"
   ]
  },
  {
   "cell_type": "markdown",
   "metadata": {},
   "source": [
    "~~ GRADED CELL 1.2 (5 marks) - complete this cell ~~\n",
    "\n",
    "Which variant-calling tool was used to produce the comp90016_assignment_3.vcf file? **50 words max**\n",
    "\n",
    "freeBayes"
   ]
  },
  {
   "cell_type": "markdown",
   "metadata": {},
   "source": [
    "~~ GRADED CELL 1.3 (10 marks) - complete this cell ~~\n",
    "\n",
    "Examine the contigs of the reference genome (available in the header). Some are labelled \"chrUn\". Explain what this means? Why are they included in the reference genome? **50 words max**\n",
    "\n",
    "\"chrUn\" means the genome contains contigs that cannot be confidently placed on a known chromosome.\n",
    "They are included because those are real variants and have good relative positions within a contig, which might be\n",
    "useful for downstream processing.\n"
   ]
  },
  {
   "cell_type": "code",
   "execution_count": null,
   "metadata": {},
   "outputs": [],
   "source": [
    "# ~~ GRADED CELL 1.4 (10 marks, 10 minutes max run-time) - complete this cell ~~\n",
    "def titv(vcf):\n",
    "    \"\"\"\n",
    "    Calculate the ti/tv for a set of SNVs in a VCF file.\n",
    "    Please disregard all other variant types.\n",
    "    Assume the input is a pysam VariantFile object.\n",
    "    Return a single floating-point number.\n",
    "    If there are no transversion SNVs, return None.\n",
    "    \"\"\"\n",
    "    purines = ['A', 'G']\n",
    "    pyrimidines = ['C', 'T']\n",
    "    ti, tv = 0, 0\n",
    "    for variant in vcf.fetch():\n",
    "        ref = variant.ref\n",
    "        alt = variant.alts[0]\n",
    "        if len(ref) == 1 and len(alt) == 1:\n",
    "            if (ref in purines and alt in purines) or (ref in pyrimidines and alt in pyrimidines):\n",
    "                ti += 1\n",
    "            else:\n",
    "                tv += 1\n",
    "    return ti / tv if tv else None"
   ]
  },
  {
   "cell_type": "code",
   "execution_count": null,
   "metadata": {},
   "outputs": [],
   "source": [
    "# ~~ Test your function in this cell ~~\n",
    "print(titv(demo_vcf_a)) # should output 2.0\n",
    "print(titv(demo_vcf_b)) # should output 1.0\n",
    "\n",
    "print(titv(comp90016_vcf))"
   ]
  },
  {
   "cell_type": "markdown",
   "metadata": {},
   "source": [
    "~~ GRADED CELL 1.5 (10 marks) - complete this cell ~~\n",
    "\n",
    "Explain why the ti/tv ratio is typically higher in protein-coding regions. Hint: How does this relate to the genetic code? **50 words max**\n",
    "\n",
    "In protein-coding region, many transitions can translate into the same amino acid, in these cases, the variant doesn't affect\n",
    "the function of the genome, therefore they are easier to be retained than transversions."
   ]
  },
  {
   "cell_type": "markdown",
   "metadata": {},
   "source": [
    "~~ GRADED CELL 1.6 (10 marks) - complete this cell ~~\n",
    "\n",
    "When working on a variant calling project, a bioinformatician might use files with the extensions vcf.gz or vcf.tbi. Explain the contents of these files and how  they relate to .vcf files. **50 words max**\n",
    "\n",
    "`vcf.gz` is the binary format of `vcf` file using gzip tool to compress and it contains the same data as `vcf`.\n",
    "`vcf.tbi` file contains tabix index of `vcf` file so that other tools can only access a portion of the `vcf` file."
   ]
  },
  {
   "cell_type": "markdown",
   "metadata": {},
   "source": [
    "~~ GRADED CELL 1.7 (5 marks) - complete this cell ~~\n",
    "\n",
    "Explain how .gz and .tbi files help bioinformaticians work with \"big\" genomics data. **50 words max**\n",
    "\n",
    "gzip tool compresses the big vcf file into `.gz` file with a smaller size, and `.tbi` file contains the index of the data in `.gz` file,\n",
    "which enable bioinformaticians to locate certain information in a large amount of data with ease.\n"
   ]
  },
  {
   "cell_type": "markdown",
   "metadata": {},
   "source": [
    "## VCF files Part 2\n",
    "\n",
    "### Setup\n",
    "These instructions will guide you on how to download a VCF file from an online sequence data repository. The public data you will be downloading is part of the 1000 Genomes Project, which was completed in 2015. It was one of the first large-scale projects to try and capture the level of variation in the human genome. Much larger projects have been completed since then. You can read one of the key publciations describing this dataset here (https://www.nature.com/articles/nature15393). Fortunately for us, a useful tool was created for reseachers to easily acces subsets of the data. It is described here: (https://www.internationalgenome.org/data-slicer/).\n",
    "\n",
    "First, you must use the UCSC Genome Browser (http://genome.ucsc.edu/) to find the genomic coordinates of a gene of interest. Vicky has prepared some training material on using the UCSC genome browser that you can find in the Additional Resources module on the LMS.\n",
    "\n",
    "Our gene of interest is Myelin Basic Protein (*MBP*). You must determine the genomic coordinates (start and end position) for MBP isoform 1 (NM_001025081). You will need to first determine which genome assembly you should use based upon which version of the genome was used to generate the VCF data for the 1000 genomes project.\n",
    "\n",
    "Then, use the Ensembl data slicer (http://grch37.ensembl.org/Homo_sapiens/Tools/DataSlicer) to generate and then download a vcf.gz file encoding the variants from three selected individuals (HG02687, HG03897 and HG04118) for the *MBP* gene (using the coordinates you determined).\n",
    "\n",
    "Rename the downloaded file `comp90016_assignment_3_MBP.vcf.gz` and move it to your current working directory.\n",
    "\n"
   ]
  },
  {
   "cell_type": "code",
   "execution_count": null,
   "metadata": {
    "scrolled": true
   },
   "outputs": [],
   "source": [
    "# Read in the file to produce an object named COMP90016_vcf_MBP\n",
    "comp90016_vcf_MBP = VariantFile(\"comp90016_assignment_3_MBP.vcf.gz\")\n",
    "comp90016_vcf_MBP"
   ]
  },
  {
   "cell_type": "markdown",
   "metadata": {},
   "source": [
    "The cell below demonstrates how to access genotype information in a VariantFile object. Note that in VCF files, a reference allele is encoded by a 0 and a alternative allele is encoded by a 1. (0,0) represents a homozygous reference, (1,1) represent homozygous alternative and (0,1) or (1,0) represents heterozygous."
   ]
  },
  {
   "cell_type": "code",
   "execution_count": null,
   "metadata": {},
   "outputs": [],
   "source": [
    "for variant in demo_vcf_b.fetch():\n",
    "    for sample in variant.samples.items():\n",
    "        print(\"Variant position: {}\".format(variant.pos))\n",
    "        print(\"Sample name: {}\".format(sample[0]))\n",
    "        print(\"Genotype: {}\".format(sample[1].items()[0][1]))"
   ]
  },
  {
   "cell_type": "markdown",
   "metadata": {},
   "source": [
    "### Questions\n",
    "\n",
    "In the cells below, complete the following tasks:\n",
    "\n",
    "2.1. (10 marks, 10 minutes max run-time) Write a python function to create a genotype dictionary for a given variant position in a given pysam VariantFile object. The sample names as strings are keys and tuples of the genotypes are the values. Assume vcf is a pysam VariantFile object. Assume chrom is the name of a contig as a string. Assume pos is an integer. Return the genotype dictionary. If the combination of chrom and pos does not exist in the VCF file, return None. \n",
    "\n",
    "2.2. (10 marks, 50 words max) For each sample, list the total number of homozygous reference, homozygous alternative and heterozygous alleles. Which of the three samples has the most homozygous alternative variants in the *MBP* gene?\n",
    "\n",
    "2.3. (10 marks, 50 words max) What information is contained in the ID column of the *MBP* VCF file? Explain how this information is useful to users.\n",
    "\n",
    "2.4. (5 marks, 50 words max) Some of the entries in the ID column start with “esv”. Others start with “rs”. Explain the differences between variants with these IDs.\n",
    "\n",
    "2.5. (10 marks, 50 words max) Examine the BLAT tool that is hosted on the UCSC website (alongside the genome browser). Comment on one similarity and one difference between BLAT and BLAST.\n",
    "\n"
   ]
  },
  {
   "cell_type": "code",
   "execution_count": null,
   "metadata": {},
   "outputs": [],
   "source": [
    "# ~~ GRADED CELL 2.1 (10 marks, 10 minutes max run-time) - complete this cell ~~\n",
    "def genotype_dict(vcf, chrom, pos):\n",
    "    \"\"\"\n",
    "    Create a genotype dictionary for a given variant position in a given pysam VariantFile object. \n",
    "    The sample names as strings are keys and tuples of the genotypes are the values. \n",
    "    Assume vcf is a pysam VariantFile object. \n",
    "    Assume chrom is the name of a contig as a string. \n",
    "    Assume pos is an integer. \n",
    "    If the combination of chrom and pos does not exist in the VCF file, return None. \n",
    "    Return the genotype dictionary.\n",
    "    \"\"\"    \n",
    "    result = dict()\n",
    "    for variant in vcf.fetch():\n",
    "        if variant.pos == pos and variant.chrom == chrom:\n",
    "            for sample in variant.samples.items():\n",
    "                result[sample[0]] = sample[1].items()[0][1]\n",
    "    return result if result else None\n",
    "\n",
    "\n",
    "    "
   ]
  },
  {
   "cell_type": "code",
   "execution_count": null,
   "metadata": {},
   "outputs": [],
   "source": [
    "# ~~ Test your function in this cell ~~\n",
    "print(genotype_dict(demo_vcf_b, '18', 74690979)) # should output {'HG02687': (0, 0), 'HG03897': (0, 1), 'HG04118': (0, 0)}\n",
    "print(genotype_dict(demo_vcf_b, '18', 74690999)) # should output {'HG02687': (1, 1), 'HG03897': (0, 0), 'HG04118': (0, 0)}\n",
    "print(genotype_dict(demo_vcf_b, '2', 1000)) # should output None\n",
    "\n",
    "print(genotype_dict(comp90016_vcf_MBP, '18', 74694135))\n"
   ]
  },
  {
   "cell_type": "markdown",
   "metadata": {},
   "source": [
    "~~ GRADED CELL 2.2 (10 marks) - complete this cell ~~\n",
    "\n",
    "For each sample, list the total number of homozygous reference, homozygous alternative and heterozygous alleles. Which of the three samples has the most homozygous alternative variants in the MBP gene?\n",
    "\n",
    "HG02687 has 1112 homozygous references, 13 homozygous alternatives and 45 heterozygous alleles.\n",
    "HG03897 has 1112 homozygous references, 12 homozygous alternatives and 46 heterozygous alleles.\n",
    "HG04118 has 1144 homozygous references, 9 homozygous alternatives and 17 heterozygous alleles.\n",
    "HG02687 has the most alternative variants"
   ]
  },
  {
   "cell_type": "markdown",
   "metadata": {},
   "source": [
    "~~ GRADED CELL 2.3 (10 marks) - complete this cell ~~\n",
    "\n",
    "What information is contained in the ID column of the *MBP* VCF file? Explain how this information is useful to researchers. **50 words max**\n",
    "\n",
    "All of the variants have been identified by being attached with an ID, researcher can search further information about\n",
    "this variant in the related database by using its id."
   ]
  },
  {
   "cell_type": "markdown",
   "metadata": {},
   "source": [
    "~~ GRADED CELL 2.4 (5 marks) - complete this cell ~~\n",
    "\n",
    "Some of the entries in the ID column start with “esv”. Others start with “rs”. Explain the differences between variants with these IDs. **50 words max**\n",
    "\n",
    "IDs starting with `rs` are variants submitted to dbSNP database, IDs starting with `esv` are variant submitted to EVA\n",
    "database."
   ]
  },
  {
   "cell_type": "markdown",
   "metadata": {},
   "source": [
    "~~ GRADED CELL 2.5 (10 marks) - complete this cell ~~\n",
    "\n",
    "Examine the BLAT tool that is hosted on the UCSC website (alongside the genome browser). Comment on one similarity and one difference between BLAT and BLAST. **50 words max**\n",
    "\n",
    "They both enable the query of a short DNA/protein sequence to a large database to find alignment results.\n",
    "BLAT demands more exact matches while BLAST allows low scoring-hits and gaps in alignments."
   ]
  }
 ],
 "metadata": {
  "kernelspec": {
   "display_name": "Python 3",
   "language": "python",
   "name": "python3"
  },
  "language_info": {
   "codemirror_mode": {
    "name": "ipython",
    "version": 3
   },
   "file_extension": ".py",
   "mimetype": "text/x-python",
   "name": "python",
   "nbconvert_exporter": "python",
   "pygments_lexer": "ipython3",
   "version": "3.7.7"
  }
 },
 "nbformat": 4,
 "nbformat_minor": 4
}
