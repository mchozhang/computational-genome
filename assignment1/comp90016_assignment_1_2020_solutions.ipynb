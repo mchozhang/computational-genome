{
 "cells": [
  {
   "cell_type": "markdown",
   "metadata": {},
   "source": [
    "# COMP90016 - Assignment 1\n",
    "\n"
   ]
  },
  {
   "cell_type": "markdown",
   "metadata": {},
   "source": [
    "Version 1. Last edited 19/4/2020."
   ]
  },
  {
   "cell_type": "markdown",
   "metadata": {},
   "source": [
    "## Sample solutions\n",
    "\n",
    "Well done on completing assignment 1! In general, the solutions we received show that you have been doing a great job keeping up with the subject content and applying it to answer questions.\n",
    "\n",
    "Here are some of the most common mistakes.\n",
    "- Read alignment is different from de novo assembly. Think about what applications might require each one.\n",
    "- For coding questions, read the instructions carefully. Some students missed boundary cases (be careful with inequalities).\n",
    "- Please only output the result specified in the instructions. Remove all internal print statements before submitting.\n",
    "- If your function works on the demo reads, it is not guarenteed to work on all test cases. Try making up some test cases of your own.\n",
    "\n",
    "The sample solutions below provide a guide for students to compare to their own answers. These solutions are not the most efficient or succinct; they are written to be simple and easy to understand."
   ]
  },
  {
   "cell_type": "markdown",
   "metadata": {},
   "source": [
    "## Semester 1, 2020¶\n",
    "\n",
    "This assignment should be completed by each student individually. Make sure you read this entire document, and ask for help if anything is not clear. Any changes or clarification to this document will be announced via the LMS.\n",
    "\n",
    "Please make sure you are aware of the University's rules on academic honesty and plagiarism, which are very strict: https://academichonesty.unimelb.edu.au/\n",
    "\n",
    "Make sure you do not copy any code either from other students or from the internet. This is considered plagiarism. It is generally a good idea to avoid looking at any solutions as you may find it surprisingly difficult to generate your own solution to the problem once you have seen somebody else's.\n",
    "\n",
    "Your completed notebook file containing all your answers will be turned in via LMS. No other files or formats will be accepted - **only upload the completed .ipynb file.**\n",
    "\n",
    "## Overview\n",
    "\n",
    "To complete the assignment you will need to finish the tasks in this notebook. There are multiple tasks that are connected in a logical order.\n",
    "\n",
    "The tasks are a combination of writing your own code to use library implementations to perform analyses, and interpreting the results in short answer format.\n",
    "\n",
    ">Word limits, where stated, will be strictly enforced! Answers exceeding the limit will **NOT** be marked.\n",
    "\n",
    "In some cases, we have provided test input and test output that you can use to try out your solutions. These tests are just samples and are **not** exhaustive - they may warn you if you've made a mistake, but they are not guaranteed to. It's up to you to decide whether your code is correct.\n",
    "\n",
    "## Marking\n",
    "\n",
    "Cells that must be completed to receive marks are clearly labeled. Some cells are code cells, in which you must complete the code to solve a problem, and some are markdown cells, in which you must write your answers to short-answer questions. Please only add to graded cells, **do not remove or modify any text in graded cells** unless specified otherwise (please don't remove text like this: # ~~ GRADED CELL (1 mark) - complete this cell ~~ ).\n",
    "\n",
    "No marks are allocated to commenting in your your code. Likewise, no marks are allocated to the speed or complexity of your code. We do however, encourage efficient and well commented code.\n",
    "\n",
    "Your code will be tested on the comp90016_assignment_1.fastq file as well as additional test cases. Your code must work on any correctly formatted FASTQ file.\n",
    "\n",
    "The total marks for the assignment add up to 10, and it will be worth 10% of your overall subject grade. The mark breakdown is as follows:\n",
    "\n",
    "* 5 marks for coding tasks\n",
    "* 5 marks for short answer tasks\n",
    "\n",
    "## Background and data\n",
    "\n",
    "In this assignment, you will use functions in the `skbio` library to parse a *FASTQ* file. You will then use the data to perform some basic analyses. You may want to refer to sections of the `skbio` documentation for additional help (http://scikit-bio.org/docs/0.5.1/generated/skbio.sequence.DNA.html). You may use functions in the `skbio` library for any of the coding questions. Aside from `skbio` functions, please only use standard Python 3 functions and methods.\n",
    "\n",
    "## Task 0 - setup\n",
    "\n",
    "We begin by importing the `skbio` library. The `skbio.io.read` function reads the *FASTQ* file, applying an offset of 33 for the phred scores for quality (quality scores are not used in this assignment). The function returns a generator object which can be used to loop through the file, or simply converted to a list. Read https://realpython.com/introduction-to-python-generators/ to better understand generators and iterators in P\n",
    "Python (this is not necessary to complete the assignment).\n",
    "\n",
    "The *FASTQ* file you will be using can be downloaded from the LMS. Download the file and place it in the same folder where this notebook is. **DO NOT** rename the file. "
   ]
  },
  {
   "cell_type": "code",
   "execution_count": null,
   "metadata": {},
   "outputs": [],
   "source": [
    "# Import the skbio library.\n",
    "import skbio"
   ]
  },
  {
   "cell_type": "code",
   "execution_count": null,
   "metadata": {},
   "outputs": [],
   "source": [
    "# Read in the FASTQ file to produce a generator object named registry.\n",
    "fname = 'comp90016_assignment_1.fastq'\n",
    "registry = skbio.io.read(fname, format = 'fastq', phred_offset = 33)\n",
    "registry"
   ]
  },
  {
   "cell_type": "code",
   "execution_count": null,
   "metadata": {},
   "outputs": [],
   "source": [
    "# Append the reads from registry to a list named readset.\n",
    "readset = []\n",
    "for r in registry:\n",
    "    readset.append(r)\n",
    "\n",
    "# Compute the number of reads in the readset. Should give an output of 783.\n",
    "len(readset)\n"
   ]
  },
  {
   "cell_type": "markdown",
   "metadata": {},
   "source": [
    "The resulting list is a list of `skbio.sequence.DNA` objects which is used to store DNA sequences. As shown below, the object stores sequence IDs, sequence qualities as positional information and basic statistics such as the sequence length."
   ]
  },
  {
   "cell_type": "code",
   "execution_count": null,
   "metadata": {},
   "outputs": [],
   "source": [
    "# View an individual skbio.sequence.DNA object from the readset list. \n",
    "# Try a different index to view a different read.\n",
    "readset[0]"
   ]
  },
  {
   "cell_type": "markdown",
   "metadata": {},
   "source": [
    "## Part 1 - Working with short reads"
   ]
  },
  {
   "cell_type": "markdown",
   "metadata": {},
   "source": [
    "In the cells below, complete the following tasks:\n",
    "\n",
    "1.1. (1 mark) Write a Python function to compute the percentage of reads that are longer than n bases. Return a floating-point number in the range 0 - 100. Assume n is a positive integer. Assume the input reads are a non-empty list of skbio.sequence.DNA objects.\n",
    "\n",
    "\n",
    "1.2. (2 marks) Suppose quality control metrics indicated that the bases on the tail end of the reads were of unacceptable quality. Write a Python function that performs the following tasks and returns the new readset as list of skbio.sequence.DNA objects. Assume trim and min_length are positive integers. Assume the input reads are a non-empty list of skbio.sequence.DNA objects.\n",
    "\n",
    "    - Remove any read where trim is greater than or equal to the read length.\n",
    "    - Remove trim bases from the end of each read. \n",
    "    - Remove any read that is less than min_length bases long after trimming.\n",
    "\n",
    "\n",
    "1.3. (1 mark) Suppose these reads were to be aligned to a reference genome. Why would removing very short reads be useful?\n"
   ]
  },
  {
   "cell_type": "code",
   "execution_count": null,
   "metadata": {},
   "outputs": [],
   "source": [
    "# ~~ GRADED CELL (1 mark) - complete this cell ~~\n",
    "def percent_reads_len(reads, n):\n",
    "    \"\"\"\n",
    "    Compute the percentage of reads (skbio DNA sequences) that are longer than n bases. \n",
    "    Assume n is a positive integer.\n",
    "    Assume the input reads are a non-empty list of skbio.sequence.DNA objects.\n",
    "    Return a floating-point number in the range 0 - 100. \n",
    "    \"\"\"\n",
    "    # Initialise a variable to count the number of reads longer than n bases.\n",
    "    long_reads = 0\n",
    "    # Iterate through the reads and increase the counter if the read length is greater than n.\n",
    "    for read in reads:\n",
    "        if len(read) > n:\n",
    "            long_reads += 1\n",
    "    # Return the percentage of reads longer than n bases.\n",
    "    return long_reads/len(reads) * 100"
   ]
  },
  {
   "cell_type": "code",
   "execution_count": null,
   "metadata": {},
   "outputs": [],
   "source": [
    "# ~~ Test your function in this cell ~~\n",
    "demo_reads_a = [skbio.sequence.DNA('ATATA'), skbio.sequence.DNA('GCGCGCGC')]\n",
    "print(percent_reads_len(demo_reads_a, 5)) # should give 50.0\n",
    "print(percent_reads_len(readset, 99))"
   ]
  },
  {
   "cell_type": "code",
   "execution_count": null,
   "metadata": {},
   "outputs": [],
   "source": [
    "# ~~ GRADED CELL (2 marks) - complete this cell ~~\n",
    "def preprocess_reads(reads, trim, min_length):\n",
    "    \"\"\"\n",
    "    Preprocesses a readset (list of skbio DNA sequences).\n",
    "    Remove any read where trim is greater than or equal to the read length.\n",
    "    Remove trim bases from the end of each read.\n",
    "    Remove any read that is less than min_length bases long after trimming.\n",
    "    Assume trim and min_length are positive integers.\n",
    "    Assume the input reads are a non-empty list of skbio.sequence.DNA objects.\n",
    "    Return the processed readset as a list of skbio.sequence.DNA objects.\n",
    "    \"\"\"\n",
    "    # Initiate a list to contain the preprocessed reads.\n",
    "    preprocessed_reads = []\n",
    "    # Iterate through the reads and add a trimmed read to preprocessed_reads if the length after trimming\n",
    "    # is greater than or equal to the minimum length.\n",
    "    for read in reads:\n",
    "        if len(read) - trim >= min_length:\n",
    "                preprocessed_reads.append(read[:-trim])\n",
    "    return preprocessed_reads"
   ]
  },
  {
   "cell_type": "code",
   "execution_count": null,
   "metadata": {},
   "outputs": [],
   "source": [
    "# ~~ Test your function in this cell ~~\n",
    "demo_reads_b = [skbio.sequence.DNA('AA'), skbio.sequence.DNA('GAAATCGG'), skbio.sequence.DNA('TTATTT')]\n",
    "print(preprocess_reads(demo_reads_b, 2, 5)) # should give only one sequence, 'GAAATC' as an skbio.sequence.DNA object, in a list.\n",
    "print(preprocess_reads(readset, 10, 50))"
   ]
  },
  {
   "cell_type": "markdown",
   "metadata": {},
   "source": [
    "~~ GRADED CELL (1 mark) - complete this cell ~~\n",
    "\n",
    "Suppose these reads were to be aligned to a reference genome. Why would removing very short reads be useful? **50 words max**\n",
    "\n",
    "Shorter reads are more likely to map to multiple regions of the reference genome. Minimising multi-mapping reads improves alignment run time."
   ]
  },
  {
   "cell_type": "markdown",
   "metadata": {},
   "source": [
    "## Part 2 - K-mer analysis\n",
    "\n",
    "Please consider **overlapping** k-mers for the following questions.\n",
    "\n",
    "In the cells below, complete the following tasks:\n",
    "\n",
    "2.1. (1 mark) Write a Python function to compute the number of distinct k-mers in the total readset for a given value of k. Assume the value of k is greater than or equal to 1, and less than or equal to the length of the shortest read. Assume the input reads are a non-empty list of skbio.sequence.DNA objects. Return a positive integer.\n",
    "\n",
    "2.2. (1 mark) Write a Python function to identify the most abundant k-mer in the readset for a given value of k. Return the k-mer as a string. If there is a tie, and 2 or more kmers are equally abundant, return one of the most abundant k-mers only. Assume the value of k is greater than or equal to 1 and less than or equal to the length of the shortest read. Assume the input reads are a non-empty list of skbio.sequence.DNA objects.\n"
   ]
  },
  {
   "cell_type": "code",
   "execution_count": null,
   "metadata": {},
   "outputs": [],
   "source": [
    "# ~~ GRADED CELL (1 mark) - complete this cell ~~\n",
    "def distinct_kmers(reads, k):\n",
    "    \"\"\"\n",
    "    Compute the number of distinct k-mers in the total readset for a given value of k. \n",
    "    Assume the value of k is greater than or equal to 1, and less than or equal to the length of the shortest read.\n",
    "    Assume the input reads are a non-empty list of skbio.sequence.DNA objects.\n",
    "    Return a positive integer.\n",
    "    \"\"\"\n",
    "    # Initiate a set to contain the distict k-mers.\n",
    "    distinct_set = set()\n",
    "    # Iterate through each k-mer in each read and add it to the set as a string.\n",
    "    for read in reads:\n",
    "        for i in range(0, len(read) - k + 1):\n",
    "            distinct_set.add(str(read)[i: i + k])\n",
    "    # Return the length of the set.\n",
    "    return len(distinct_set)"
   ]
  },
  {
   "cell_type": "code",
   "execution_count": null,
   "metadata": {},
   "outputs": [],
   "source": [
    "# ~~ Test your function in this cell ~~\n",
    "demo_reads_c = [skbio.sequence.DNA('AAAAATTC'), skbio.sequence.DNA('CAT')]\n",
    "print(distinct_kmers(demo_reads_c, 3)) # should give 5\n",
    "print(distinct_kmers(readset, 9))"
   ]
  },
  {
   "cell_type": "code",
   "execution_count": null,
   "metadata": {},
   "outputs": [],
   "source": [
    "# ~~ GRADED CELL (1 mark) - complete this cell ~~\n",
    "def top_kmer(reads, k):\n",
    "    \"\"\"\n",
    "    Identify the most abundant k-mer in the readset for a given value of k.\n",
    "    Assume the value of k is greater than or equal to 1 and less than or equal to the length of the shortest read.\n",
    "    Assume the input reads are a non-empty list of skbio.sequence.DNA objects.\n",
    "    Return the k-mer as a string. If there is a tie, and 2 or more kmers are equally abundant, return one of the most abundant k-mers only.\n",
    "    \"\"\"\n",
    "    # Initialise a dictionary to count the occurances of k-mers.\n",
    "    # A default dictionary could also be used.\n",
    "    kmer_freq = {}\n",
    "    # Iterate through each k-mer in each read.\n",
    "    for read in reads:\n",
    "        for i in range(0, len(read) - k + 1):\n",
    "            # If the k-mer is not in the dictionary, add it with a count of 1.\n",
    "            if str(read)[i: i + k] not in kmer_freq:\n",
    "                kmer_freq[str(read)[i: i + k]] = 1\n",
    "            # If the k-mer is in the dictionary, increase the counter by 1.\n",
    "            else:\n",
    "                kmer_freq[str(read)[i: i + k]] += 1\n",
    "    # Return the string of the sequence of the k-mer with the highest frequency.\n",
    "    return max(kmer_freq, key = kmer_freq.get)"
   ]
  },
  {
   "cell_type": "code",
   "execution_count": null,
   "metadata": {},
   "outputs": [],
   "source": [
    "# ~~ Test your function in this cell ~~\n",
    "print(top_kmer(demo_reads_c, 3)) # should give 'AAA'\n",
    "print(top_kmer(readset, 9))"
   ]
  },
  {
   "cell_type": "markdown",
   "metadata": {},
   "source": [
    "## Part 3 - Read alignment\n",
    "\n",
    "In the cells below, complete the following tasks:\n",
    "\n",
    "3.1. (1 mark) What does it mean for read alignment algorithms to be semi-global?\n",
    "\n",
    "3.2. (1 mark) Explain the difference between simple and affine gap costs?\n",
    "\n",
    "3.3. (2 marks) Aside from read length, describe one difference between reads produced on an Illumina NextSeq and reads produced on an Oxford Nanopore MinION? How would this difference affect read alignment?"
   ]
  },
  {
   "cell_type": "markdown",
   "metadata": {},
   "source": [
    "~~ GRADED CELL (1 mark) - complete this cell ~~\n",
    "\n",
    "What does it mean for read alignment algorithms to be semi-global? **50 words max**\n",
    "\n",
    "In semi-global alignment, the whole of a short query sequence is aligned to part of a reference sequence. Gaps at either end of the alignment are not penalised. The alignment is global with respect to the query sequence and local with respect to the reference sequence."
   ]
  },
  {
   "cell_type": "markdown",
   "metadata": {},
   "source": [
    "~~ GRADED CELL (1 mark) - complete this cell ~~\n",
    "\n",
    "Explain the difference between simple and affine gap costs? **50 words max**\n",
    "\n",
    "Simple gap cost models assign a fixed penalty to an indel in an alignment. Affine gap models assign different penalties for opening a gap and for extending a gap. "
   ]
  },
  {
   "cell_type": "markdown",
   "metadata": {},
   "source": [
    "~~ GRADED CELL (2 marks) - complete this cell ~~\n",
    "\n",
    "Aside from read length, describe one difference between reads produced on an Illumina NextSeq and reads produced on an Oxford Nanopore MinION? \n",
    "How would this difference affect read alignment? **100 words max**\n",
    "\n",
    "Reads produced by an Illumina NextSeq sequencer have a higher per-base sequence quality compared to reads produced by an Oxford Nanopore MinION device. Reads containing more errors are more difficult to align correctly to a reference genome. The errors may cause reads to be aligned to the incorrect region of the genome, or the reads may not map to the genome at all. "
   ]
  }
 ],
 "metadata": {
  "kernelspec": {
   "display_name": "Python 3",
   "language": "python",
   "name": "python3"
  },
  "language_info": {
   "codemirror_mode": {
    "name": "ipython",
    "version": 3
   },
   "file_extension": ".py",
   "mimetype": "text/x-python",
   "name": "python",
   "nbconvert_exporter": "python",
   "pygments_lexer": "ipython3",
   "version": "3.7.7"
  }
 },
 "nbformat": 4,
 "nbformat_minor": 4
}
